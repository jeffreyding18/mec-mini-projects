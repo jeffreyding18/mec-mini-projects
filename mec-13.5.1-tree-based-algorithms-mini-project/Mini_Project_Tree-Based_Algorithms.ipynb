{
 "cells": [
  {
   "attachments": {},
   "cell_type": "markdown",
   "metadata": {},
   "source": [
    "# Mini Project: Tree-Based Algorithms"
   ]
  },
  {
   "attachments": {},
   "cell_type": "markdown",
   "metadata": {},
   "source": [
    "## The \"German Credit\" Dataset"
   ]
  },
  {
   "attachments": {},
   "cell_type": "markdown",
   "metadata": {},
   "source": [
    "### Dataset Details"
   ]
  },
  {
   "attachments": {},
   "cell_type": "markdown",
   "metadata": {},
   "source": [
    "This dataset has two classes (these would be considered labels in Machine Learning terms) to describe the worthiness of a personal loan: \"Good\" or \"Bad\". There are predictors related to attributes, such as: checking account status, duration, credit history, purpose of the loan, amount of the loan, savings accounts or bonds, employment duration, installment rate in percentage of disposable income, personal information, other debtors/guarantors, residence duration, property, age, other installment plans, housing, number of existing credits, job information, number of people being liable to provide maintenance for, telephone, and foreign worker status.\n",
    "\n",
    "Many of these predictors are discrete and have been expanded into several 0/1 indicator variables (a.k.a. they have been one-hot-encoded).\n",
    "\n",
    "This dataset has been kindly provided by Professor Dr. Hans Hofmann of the University of Hamburg, and can also be found on the UCI Machine Learning Repository."
   ]
  },
  {
   "attachments": {},
   "cell_type": "markdown",
   "metadata": {},
   "source": [
    "\n",
    "\n",
    "\n"
   ]
  },
  {
   "attachments": {},
   "cell_type": "markdown",
   "metadata": {},
   "source": [
    "## Decision Trees"
   ]
  },
  {
   "attachments": {},
   "cell_type": "markdown",
   "metadata": {},
   "source": [
    " As we have learned in the previous lectures, Decision Trees as a family of algorithms (irrespective to the particular implementation) are powerful algorithms that can produce models with a predictive accuracy higher than that produced by linear models, such as Linear or Logistic Regression. Primarily, this is due to the fact the DT's can model nonlinear relationships, and also have a number of tuning paramters, that allow for the practicioner to achieve the best possible model. An added bonus is the ability to visualize the trained Decision Tree model, which allows for some insight into how the model has produced the predictions that it has. One caveat here, to keep in mind, is that sometimes, due to the size of the dataset (both in the sense of the number of records, as well as the number of features), the visualization might prove to be very large and complex, increasing the difficulty of interpretation."
   ]
  },
  {
   "attachments": {},
   "cell_type": "markdown",
   "metadata": {},
   "source": [
    "To give you a very good example of how Decision Trees can be visualized and interpreted, we would strongly recommend that, before continuing on with solving the problems in this Mini Project, you take the time to read this fanstastic, detailed and informative blog post: http://explained.ai/decision-tree-viz/index.html"
   ]
  },
  {
   "attachments": {},
   "cell_type": "markdown",
   "metadata": {},
   "source": [
    "## Building Your First Decision Tree Model"
   ]
  },
  {
   "attachments": {},
   "cell_type": "markdown",
   "metadata": {},
   "source": [
    "So, now it's time to jump straight into the heart of the matter. Your first task, is to build a Decision Tree model, using the aforementioned \"German Credit\" dataset, which contains 1,000 records, and 62 columns (one of them presents the labels, and the other 61 present the potential features for the model.)"
   ]
  },
  {
   "attachments": {},
   "cell_type": "markdown",
   "metadata": {},
   "source": [
    "For this task, you will be using the scikit-learn library, which comes already pre-installed with the Anaconda Python distribution. In case you're not using that, you can easily install it using pip."
   ]
  },
  {
   "attachments": {},
   "cell_type": "markdown",
   "metadata": {},
   "source": [
    "Before embarking on creating your first model, we would strongly encourage you to read the short tutorial for Decision Trees in scikit-learn (http://scikit-learn.org/stable/modules/tree.html), and then dive a bit deeper into the documentation of the algorithm itself (http://scikit-learn.org/stable/modules/generated/sklearn.tree.DecisionTreeClassifier.html). "
   ]
  },
  {
   "attachments": {},
   "cell_type": "markdown",
   "metadata": {},
   "source": [
    "Also, since you want to be able to present the results of your model, we suggest you take a look at the tutorial for accuracy metrics for classification models (http://scikit-learn.org/stable/modules/model_evaluation.html#classification-report) as well as the more detailed documentation (http://scikit-learn.org/stable/modules/generated/sklearn.metrics.classification_report.html).\n",
    "\n",
    "Finally, an *amazing* resource that explains the various classification model accuracy metrics, as well as the relationships between them, can be found on Wikipedia: https://en.wikipedia.org/wiki/Confusion_matrix"
   ]
  },
  {
   "attachments": {},
   "cell_type": "markdown",
   "metadata": {},
   "source": [
    "(Note: as you've already learned in the Logistic Regression mini project, a standard practice in Machine Learning for achieving the best possible result when training a model is to use hyperparameter tuning, through Grid Search and k-fold Cross Validation. We strongly encourage you to use it here as well, not just because it's standard practice, but also becuase it's not going to be computationally to intensive, due to the size of the dataset that you're working with. Our suggestion here is that you split the data into 70% training, and 30% testing. Then, do the hyperparameter tuning and Cross Validation on the training set, and afterwards to a final test on the testing set.)"
   ]
  },
  {
   "attachments": {},
   "cell_type": "markdown",
   "metadata": {},
   "source": [
    "### Now we pass the torch onto you! You can start building your first Decision Tree model! :)"
   ]
  },
  {
   "cell_type": "code",
   "execution_count": 1,
   "metadata": {},
   "outputs": [],
   "source": [
    "import pandas as pd\n",
    "from sklearn.tree import DecisionTreeClassifier\n",
    "from sklearn.metrics import classification_report\n",
    "from sklearn.model_selection import train_test_split\n",
    "from sklearn.model_selection import GridSearchCV"
   ]
  },
  {
   "cell_type": "code",
   "execution_count": 2,
   "metadata": {},
   "outputs": [],
   "source": [
    "df = pd.read_csv('GermanCredit.csv.zip')\n",
    "X = df.drop(\"Class\", axis= 1)\n",
    "encode_class = lambda x: 1 if x=='Good' else 0\n",
    "y = pd.Series(list(map(encode_class, df['Class'])), index=df.index)\n",
    "X_train, X_test, y_train, y_test = train_test_split(X, y, test_size=.3)"
   ]
  },
  {
   "cell_type": "code",
   "execution_count": 3,
   "metadata": {},
   "outputs": [
    {
     "name": "stdout",
     "output_type": "stream",
     "text": [
      "              precision    recall  f1-score   support\n",
      "\n",
      "         Bad       0.51      0.58      0.54        88\n",
      "        Good       0.81      0.77      0.79       212\n",
      "\n",
      "    accuracy                           0.71       300\n",
      "   macro avg       0.66      0.67      0.67       300\n",
      "weighted avg       0.73      0.71      0.72       300\n",
      "\n"
     ]
    }
   ],
   "source": [
    "clf = DecisionTreeClassifier()\n",
    "clf.fit(X_train, y_train)\n",
    "\n",
    "target_names = ['Bad', 'Good']\n",
    "y_pred = clf.predict(X_test)\n",
    "\n",
    "print(classification_report(y_test, y_pred, target_names=target_names))"
   ]
  },
  {
   "attachments": {},
   "cell_type": "markdown",
   "metadata": {},
   "source": [
    "### After you've built the best model you can, now it's time to visualize it!"
   ]
  },
  {
   "attachments": {},
   "cell_type": "markdown",
   "metadata": {},
   "source": [
    "Rememeber that amazing blog post from a few paragraphs ago, that demonstrated how to visualize and interpret the results of your Decision Tree model. We've seen that this can perform very well, but let's see how it does on the \"German Credit\" dataset that we're working on, due to it being a bit larger than the one used by the blog authors."
   ]
  },
  {
   "attachments": {},
   "cell_type": "markdown",
   "metadata": {},
   "source": [
    "First, we're going to need to install their package. If you're using Anaconda, this can be done easily by running:"
   ]
  },
  {
   "cell_type": "code",
   "execution_count": 4,
   "metadata": {},
   "outputs": [
    {
     "name": "stdout",
     "output_type": "stream",
     "text": [
      "Requirement already satisfied: dtreeviz in c:\\users\\jeffrey ding\\appdata\\local\\programs\\python\\python311\\lib\\site-packages (2.2.2)\n",
      "Requirement already satisfied: graphviz>=0.9 in c:\\users\\jeffrey ding\\appdata\\local\\programs\\python\\python311\\lib\\site-packages (from dtreeviz) (0.20.1)\n",
      "Requirement already satisfied: pandas in c:\\users\\jeffrey ding\\appdata\\local\\programs\\python\\python311\\lib\\site-packages (from dtreeviz) (2.0.1)\n",
      "Requirement already satisfied: numpy in c:\\users\\jeffrey ding\\appdata\\local\\programs\\python\\python311\\lib\\site-packages (from dtreeviz) (1.24.3)\n",
      "Requirement already satisfied: scikit-learn in c:\\users\\jeffrey ding\\appdata\\local\\programs\\python\\python311\\lib\\site-packages (from dtreeviz) (1.1.3)\n",
      "Requirement already satisfied: matplotlib in c:\\users\\jeffrey ding\\appdata\\local\\programs\\python\\python311\\lib\\site-packages (from dtreeviz) (3.7.1)\n",
      "Requirement already satisfied: colour in c:\\users\\jeffrey ding\\appdata\\local\\programs\\python\\python311\\lib\\site-packages (from dtreeviz) (0.1.5)\n",
      "Requirement already satisfied: pytest in c:\\users\\jeffrey ding\\appdata\\local\\programs\\python\\python311\\lib\\site-packages (from dtreeviz) (7.4.0)\n",
      "Requirement already satisfied: contourpy>=1.0.1 in c:\\users\\jeffrey ding\\appdata\\local\\programs\\python\\python311\\lib\\site-packages (from matplotlib->dtreeviz) (1.0.7)\n",
      "Requirement already satisfied: cycler>=0.10 in c:\\users\\jeffrey ding\\appdata\\local\\programs\\python\\python311\\lib\\site-packages (from matplotlib->dtreeviz) (0.11.0)\n",
      "Requirement already satisfied: fonttools>=4.22.0 in c:\\users\\jeffrey ding\\appdata\\local\\programs\\python\\python311\\lib\\site-packages (from matplotlib->dtreeviz) (4.39.3)\n",
      "Requirement already satisfied: kiwisolver>=1.0.1 in c:\\users\\jeffrey ding\\appdata\\local\\programs\\python\\python311\\lib\\site-packages (from matplotlib->dtreeviz) (1.4.4)\n",
      "Requirement already satisfied: packaging>=20.0 in c:\\users\\jeffrey ding\\appdata\\roaming\\python\\python311\\site-packages (from matplotlib->dtreeviz) (23.1)\n",
      "Requirement already satisfied: pillow>=6.2.0 in c:\\users\\jeffrey ding\\appdata\\local\\programs\\python\\python311\\lib\\site-packages (from matplotlib->dtreeviz) (9.5.0)\n",
      "Requirement already satisfied: pyparsing>=2.3.1 in c:\\users\\jeffrey ding\\appdata\\roaming\\python\\python311\\site-packages (from matplotlib->dtreeviz) (3.0.9)\n",
      "Requirement already satisfied: python-dateutil>=2.7 in c:\\users\\jeffrey ding\\appdata\\roaming\\python\\python311\\site-packages (from matplotlib->dtreeviz) (2.8.2)\n",
      "Requirement already satisfied: pytz>=2020.1 in c:\\users\\jeffrey ding\\appdata\\local\\programs\\python\\python311\\lib\\site-packages (from pandas->dtreeviz) (2023.3)\n",
      "Requirement already satisfied: tzdata>=2022.1 in c:\\users\\jeffrey ding\\appdata\\local\\programs\\python\\python311\\lib\\site-packages (from pandas->dtreeviz) (2023.3)\n",
      "Requirement already satisfied: iniconfig in c:\\users\\jeffrey ding\\appdata\\local\\programs\\python\\python311\\lib\\site-packages (from pytest->dtreeviz) (2.0.0)\n",
      "Requirement already satisfied: pluggy<2.0,>=0.12 in c:\\users\\jeffrey ding\\appdata\\local\\programs\\python\\python311\\lib\\site-packages (from pytest->dtreeviz) (1.2.0)\n",
      "Requirement already satisfied: colorama in c:\\users\\jeffrey ding\\appdata\\roaming\\python\\python311\\site-packages (from pytest->dtreeviz) (0.4.6)\n",
      "Requirement already satisfied: scipy>=1.3.2 in c:\\users\\jeffrey ding\\appdata\\local\\programs\\python\\python311\\lib\\site-packages (from scikit-learn->dtreeviz) (1.10.1)\n",
      "Requirement already satisfied: joblib>=1.0.0 in c:\\users\\jeffrey ding\\appdata\\local\\programs\\python\\python311\\lib\\site-packages (from scikit-learn->dtreeviz) (1.2.0)\n",
      "Requirement already satisfied: threadpoolctl>=2.0.0 in c:\\users\\jeffrey ding\\appdata\\local\\programs\\python\\python311\\lib\\site-packages (from scikit-learn->dtreeviz) (3.1.0)\n",
      "Requirement already satisfied: six>=1.5 in c:\\users\\jeffrey ding\\appdata\\roaming\\python\\python311\\site-packages (from python-dateutil>=2.7->matplotlib->dtreeviz) (1.16.0)\n",
      "Requirement already satisfied: graphviz in c:\\users\\jeffrey ding\\appdata\\local\\programs\\python\\python311\\lib\\site-packages (0.20.1)\n"
     ]
    }
   ],
   "source": [
    "! pip install dtreeviz\n",
    "! pip install graphviz"
   ]
  },
  {
   "cell_type": "code",
   "execution_count": 29,
   "metadata": {},
   "outputs": [],
   "source": [
    "! pip freeze > requirements.txt"
   ]
  },
  {
   "attachments": {},
   "cell_type": "markdown",
   "metadata": {},
   "source": [
    "If for any reason this way of installing doesn't work for you straight out of the box, please refer to the more detailed documentation here: https://github.com/parrt/dtreeviz"
   ]
  },
  {
   "attachments": {},
   "cell_type": "markdown",
   "metadata": {},
   "source": [
    "Now you're ready to visualize your Decision Tree model! Please feel free to use the blog post for guidance and inspiration!"
   ]
  },
  {
   "cell_type": "code",
   "execution_count": 5,
   "metadata": {},
   "outputs": [
    {
     "data": {
      "text/plain": [
       "\"\\nclf = DecisionTreeClassifier()\\nclf.fit(X_train, y_train)\\n\\nviz_model = dtreeviz.dtreeviz(clf,\\n                              X_train=X_train,\\n                              y_train=y_train,\\n                              feature_names=list(X.columns),\\n                              target_name='Class',\\n                              class_names=target_names)\\n\\nviz_model.view()\\n\\nviz_model = dtreeviz.model(clf,\\n                           X_train=X_train, y_train=y_train,\\n                           feature_names=X_train.columns,\\n                           target_name='Class',\\n                           class_names=['Bad', 'Good'])\\n\\nviz_model.view()\\n\""
      ]
     },
     "execution_count": 5,
     "metadata": {},
     "output_type": "execute_result"
    }
   ],
   "source": [
    "# Your code here! :)\n",
    "import dtreeviz\n",
    "\"\"\"\n",
    "clf = DecisionTreeClassifier()\n",
    "clf.fit(X_train, y_train)\n",
    "\n",
    "viz_model = dtreeviz.dtreeviz(clf,\n",
    "                              X_train=X_train,\n",
    "                              y_train=y_train,\n",
    "                              feature_names=list(X.columns),\n",
    "                              target_name='Class',\n",
    "                              class_names=target_names)\n",
    "\n",
    "viz_model.view()\n",
    "\n",
    "viz_model = dtreeviz.model(clf,\n",
    "                           X_train=X_train, y_train=y_train,\n",
    "                           feature_names=X_train.columns,\n",
    "                           target_name='Class',\n",
    "                           class_names=['Bad', 'Good'])\n",
    "\n",
    "viz_model.view()\n",
    "\"\"\"\n",
    "\n",
    "\n",
    "# viz_model.view()\n",
    "# Seems like dtreeviz is deprecated. When using dtreeviz.model, doesn't work with the GermanCredit data."
   ]
  },
  {
   "attachments": {},
   "cell_type": "markdown",
   "metadata": {},
   "source": [
    "## Random Forests"
   ]
  },
  {
   "attachments": {},
   "cell_type": "markdown",
   "metadata": {},
   "source": [
    "As discussed in the lecture videos, Decision Tree algorithms also have certain undesireable properties. Mainly the have low bias, which is good, but tend to have high variance - which is *not* so good (more about this problem here: https://en.wikipedia.org/wiki/Bias%E2%80%93variance_tradeoff)."
   ]
  },
  {
   "attachments": {},
   "cell_type": "markdown",
   "metadata": {},
   "source": [
    "Noticing these problems, the late Professor Leo Breiman, in 2001, developed the Random Forests algorithm, which mitigates these problems, while at the same time providing even higher predictive accuracy than the majority of Decision Tree algorithm implementations. While the curriculum contains two excellent lectures on Random Forests, if you're interested, you can dive into the original paper here: https://link.springer.com/content/pdf/10.1023%2FA%3A1010933404324.pdf."
   ]
  },
  {
   "attachments": {},
   "cell_type": "markdown",
   "metadata": {},
   "source": [
    "In the next part of this assignment, your are going to use the same \"German Credit\" dataset to train, tune, and measure the performance of a Random Forests model. You will also see certain functionalities that this model, even though it's a bit of a \"black box\", provides for some degree of interpretability."
   ]
  },
  {
   "attachments": {},
   "cell_type": "markdown",
   "metadata": {},
   "source": [
    "First, let's build a Random Forests model, using the same best practices that you've used for your Decision Trees model. You can reuse the things you've already imported there, so no need to do any re-imports, new train/test splits, or loading up the data again."
   ]
  },
  {
   "cell_type": "code",
   "execution_count": 6,
   "metadata": {},
   "outputs": [],
   "source": [
    "from sklearn.ensemble import RandomForestClassifier"
   ]
  },
  {
   "cell_type": "code",
   "execution_count": 7,
   "metadata": {},
   "outputs": [],
   "source": [
    "# Your code here! :)\n",
    "rfc = RandomForestClassifier()\n",
    "rfc.fit(X_train, y_train)\n",
    "\n",
    "y_pred = rfc.predict(X_test)"
   ]
  },
  {
   "attachments": {},
   "cell_type": "markdown",
   "metadata": {},
   "source": [
    "As mentioned, there are certain ways to \"peek\" into a model created by the Random Forests algorithm. The first, and most popular one, is the Feature Importance calculation functionality. This allows the ML practitioner to see an ordering of the importance of the features that have contributed the most to the predictive accuracy of the model. \n",
    "\n",
    "You can see how to use this in the scikit-learn documentation (http://scikit-learn.org/stable/modules/generated/sklearn.ensemble.RandomForestClassifier.html#sklearn.ensemble.RandomForestClassifier.feature_importances_). Now, if you tried this, you would just get an ordered table of not directly interpretable numeric values. Thus, it's much more useful to show the feature importance in a visual way. You can see an example of how that's done here: http://scikit-learn.org/stable/auto_examples/ensemble/plot_forest_importances.html#sphx-glr-auto-examples-ensemble-plot-forest-importances-py\n",
    "\n",
    "Now you try! Let's visualize the importance of features from your Random Forests model!"
   ]
  },
  {
   "cell_type": "code",
   "execution_count": 8,
   "metadata": {},
   "outputs": [
    {
     "data": {
      "image/png": "[encoded data removed]",
      "text/plain": [
       "<Figure size 640x480 with 1 Axes>"
      ]
     },
     "metadata": {},
     "output_type": "display_data"
    }
   ],
   "source": [
    "# Your code here\n",
    "import pandas as pd\n",
    "import numpy as np\n",
    "\n",
    "import matplotlib.pyplot as plt\n",
    "\n",
    "importances = rfc.feature_importances_\n",
    "std = np.std([tree.feature_importances_ for tree in rfc.estimators_], axis=0)\n",
    "\n",
    "forest_importances = pd.Series(importances, index=X_train.columns).sort_values(ascending=False)[0:10]\n",
    "stds = pd.Series(std, index=X_train.columns).sort_values(ascending=False)[0:10]\n",
    "\n",
    "fig, ax = plt.subplots()\n",
    "forest_importances.plot.bar(yerr=stds, ax=ax)\n",
    "ax.set_title(\"Top 10 Feature importances using MDI\")\n",
    "ax.set_ylabel(\"Mean decrease in impurity\")\n",
    "fig.tight_layout()"
   ]
  },
  {
   "attachments": {},
   "cell_type": "markdown",
   "metadata": {},
   "source": [
    "A final method for gaining some insight into the inner working of your Random Forests models is a so-called Partial Dependence Plot. The Partial Dependence Plot (PDP or PD plot) shows the marginal effect of a feature on the predicted outcome of a previously fit model. The prediction function is fixed at a few values of the chosen features and averaged over the other features. A partial dependence plot can show if the relationship between the target and a feature is linear, monotonic or more complex. \n",
    "\n",
    "In scikit-learn, PDPs are implemented and available for certain algorithms, but at this point (version 0.20.0) they are not yet implemented for Random Forests. Thankfully, there is an add-on package called **PDPbox** (https://pdpbox.readthedocs.io/en/latest/) which adds this functionality to Random Forests. The package is easy to install through pip."
   ]
  },
  {
   "cell_type": "code",
   "execution_count": 35,
   "metadata": {},
   "outputs": [
    {
     "name": "stdout",
     "output_type": "stream",
     "text": [
      "Requirement already satisfied: pdpbox in c:\\users\\jeffrey ding\\appdata\\local\\programs\\python\\python311\\lib\\site-packages (0.3.0)\n",
      "Requirement already satisfied: joblib>=1.1.0 in c:\\users\\jeffrey ding\\appdata\\local\\programs\\python\\python311\\lib\\site-packages (from pdpbox) (1.2.0)\n",
      "Requirement already satisfied: matplotlib>=3.6.2 in c:\\users\\jeffrey ding\\appdata\\local\\programs\\python\\python311\\lib\\site-packages (from pdpbox) (3.7.1)\n",
      "Requirement already satisfied: numpy>=1.21.5 in c:\\users\\jeffrey ding\\appdata\\local\\programs\\python\\python311\\lib\\site-packages (from pdpbox) (1.24.3)\n",
      "Requirement already satisfied: pandas>=1.4.4 in c:\\users\\jeffrey ding\\appdata\\local\\programs\\python\\python311\\lib\\site-packages (from pdpbox) (2.0.1)\n",
      "Requirement already satisfied: plotly>=5.9.0 in c:\\users\\jeffrey ding\\appdata\\local\\programs\\python\\python311\\lib\\site-packages (from pdpbox) (5.15.0)\n",
      "Requirement already satisfied: pqdm>=0.2.0 in c:\\users\\jeffrey ding\\appdata\\local\\programs\\python\\python311\\lib\\site-packages (from pdpbox) (0.2.0)\n",
      "Requirement already satisfied: psutil>=5.9.0 in c:\\users\\jeffrey ding\\appdata\\roaming\\python\\python311\\site-packages (from pdpbox) (5.9.5)\n",
      "Requirement already satisfied: pytest in c:\\users\\jeffrey ding\\appdata\\local\\programs\\python\\python311\\lib\\site-packages (from pdpbox) (7.4.0)\n",
      "Requirement already satisfied: scikit-learn>=1.0.2 in c:\\users\\jeffrey ding\\appdata\\local\\programs\\python\\python311\\lib\\site-packages (from pdpbox) (1.1.3)\n",
      "Requirement already satisfied: setuptools in c:\\users\\jeffrey ding\\appdata\\local\\programs\\python\\python311\\lib\\site-packages (from pdpbox) (65.5.0)\n",
      "Requirement already satisfied: sphinx>=5.0.2 in c:\\users\\jeffrey ding\\appdata\\local\\programs\\python\\python311\\lib\\site-packages (from pdpbox) (6.2.1)\n",
      "Requirement already satisfied: sphinx-rtd-theme>=1.1.1 in c:\\users\\jeffrey ding\\appdata\\local\\programs\\python\\python311\\lib\\site-packages (from pdpbox) (1.2.2)\n",
      "Requirement already satisfied: tqdm>=4.64.1 in c:\\users\\jeffrey ding\\appdata\\local\\programs\\python\\python311\\lib\\site-packages (from pdpbox) (4.65.0)\n",
      "Requirement already satisfied: numpydoc>=1.4.0 in c:\\users\\jeffrey ding\\appdata\\local\\programs\\python\\python311\\lib\\site-packages (from pdpbox) (1.5.0)\n",
      "Requirement already satisfied: xgboost>=1.7.1 in c:\\users\\jeffrey ding\\appdata\\local\\programs\\python\\python311\\lib\\site-packages (from pdpbox) (1.7.6)\n",
      "Requirement already satisfied: contourpy>=1.0.1 in c:\\users\\jeffrey ding\\appdata\\local\\programs\\python\\python311\\lib\\site-packages (from matplotlib>=3.6.2->pdpbox) (1.0.7)\n",
      "Requirement already satisfied: cycler>=0.10 in c:\\users\\jeffrey ding\\appdata\\local\\programs\\python\\python311\\lib\\site-packages (from matplotlib>=3.6.2->pdpbox) (0.11.0)\n",
      "Requirement already satisfied: fonttools>=4.22.0 in c:\\users\\jeffrey ding\\appdata\\local\\programs\\python\\python311\\lib\\site-packages (from matplotlib>=3.6.2->pdpbox) (4.39.3)\n",
      "Requirement already satisfied: kiwisolver>=1.0.1 in c:\\users\\jeffrey ding\\appdata\\local\\programs\\python\\python311\\lib\\site-packages (from matplotlib>=3.6.2->pdpbox) (1.4.4)\n",
      "Requirement already satisfied: packaging>=20.0 in c:\\users\\jeffrey ding\\appdata\\roaming\\python\\python311\\site-packages (from matplotlib>=3.6.2->pdpbox) (23.1)\n",
      "Requirement already satisfied: pillow>=6.2.0 in c:\\users\\jeffrey ding\\appdata\\local\\programs\\python\\python311\\lib\\site-packages (from matplotlib>=3.6.2->pdpbox) (9.5.0)\n",
      "Requirement already satisfied: pyparsing>=2.3.1 in c:\\users\\jeffrey ding\\appdata\\roaming\\python\\python311\\site-packages (from matplotlib>=3.6.2->pdpbox) (3.0.9)\n",
      "Requirement already satisfied: python-dateutil>=2.7 in c:\\users\\jeffrey ding\\appdata\\roaming\\python\\python311\\site-packages (from matplotlib>=3.6.2->pdpbox) (2.8.2)\n",
      "Requirement already satisfied: Jinja2>=2.10 in c:\\users\\jeffrey ding\\appdata\\local\\programs\\python\\python311\\lib\\site-packages (from numpydoc>=1.4.0->pdpbox) (3.1.2)\n",
      "Requirement already satisfied: pytz>=2020.1 in c:\\users\\jeffrey ding\\appdata\\local\\programs\\python\\python311\\lib\\site-packages (from pandas>=1.4.4->pdpbox) (2023.3)\n",
      "Requirement already satisfied: tzdata>=2022.1 in c:\\users\\jeffrey ding\\appdata\\local\\programs\\python\\python311\\lib\\site-packages (from pandas>=1.4.4->pdpbox) (2023.3)\n",
      "Requirement already satisfied: tenacity>=6.2.0 in c:\\users\\jeffrey ding\\appdata\\local\\programs\\python\\python311\\lib\\site-packages (from plotly>=5.9.0->pdpbox) (8.2.2)\n",
      "Requirement already satisfied: bounded-pool-executor in c:\\users\\jeffrey ding\\appdata\\local\\programs\\python\\python311\\lib\\site-packages (from pqdm>=0.2.0->pdpbox) (0.0.3)\n",
      "Requirement already satisfied: typing-extensions in c:\\users\\jeffrey ding\\appdata\\local\\programs\\python\\python311\\lib\\site-packages (from pqdm>=0.2.0->pdpbox) (4.7.1)\n",
      "Requirement already satisfied: scipy>=1.3.2 in c:\\users\\jeffrey ding\\appdata\\local\\programs\\python\\python311\\lib\\site-packages (from scikit-learn>=1.0.2->pdpbox) (1.10.1)\n",
      "Requirement already satisfied: threadpoolctl>=2.0.0 in c:\\users\\jeffrey ding\\appdata\\local\\programs\\python\\python311\\lib\\site-packages (from scikit-learn>=1.0.2->pdpbox) (3.1.0)\n",
      "Requirement already satisfied: sphinxcontrib-applehelp in c:\\users\\jeffrey ding\\appdata\\local\\programs\\python\\python311\\lib\\site-packages (from sphinx>=5.0.2->pdpbox) (1.0.4)\n",
      "Requirement already satisfied: sphinxcontrib-devhelp in c:\\users\\jeffrey ding\\appdata\\local\\programs\\python\\python311\\lib\\site-packages (from sphinx>=5.0.2->pdpbox) (1.0.2)\n",
      "Requirement already satisfied: sphinxcontrib-jsmath in c:\\users\\jeffrey ding\\appdata\\local\\programs\\python\\python311\\lib\\site-packages (from sphinx>=5.0.2->pdpbox) (1.0.1)\n",
      "Requirement already satisfied: sphinxcontrib-htmlhelp>=2.0.0 in c:\\users\\jeffrey ding\\appdata\\local\\programs\\python\\python311\\lib\\site-packages (from sphinx>=5.0.2->pdpbox) (2.0.1)\n",
      "Requirement already satisfied: sphinxcontrib-serializinghtml>=1.1.5 in c:\\users\\jeffrey ding\\appdata\\local\\programs\\python\\python311\\lib\\site-packages (from sphinx>=5.0.2->pdpbox) (1.1.5)\n",
      "Requirement already satisfied: sphinxcontrib-qthelp in c:\\users\\jeffrey ding\\appdata\\local\\programs\\python\\python311\\lib\\site-packages (from sphinx>=5.0.2->pdpbox) (1.0.3)\n",
      "Requirement already satisfied: Pygments>=2.13 in c:\\users\\jeffrey ding\\appdata\\roaming\\python\\python311\\site-packages (from sphinx>=5.0.2->pdpbox) (2.15.1)\n",
      "Requirement already satisfied: docutils<0.20,>=0.18.1 in c:\\users\\jeffrey ding\\appdata\\local\\programs\\python\\python311\\lib\\site-packages (from sphinx>=5.0.2->pdpbox) (0.18.1)\n",
      "Requirement already satisfied: snowballstemmer>=2.0 in c:\\users\\jeffrey ding\\appdata\\local\\programs\\python\\python311\\lib\\site-packages (from sphinx>=5.0.2->pdpbox) (2.2.0)\n",
      "Requirement already satisfied: babel>=2.9 in c:\\users\\jeffrey ding\\appdata\\local\\programs\\python\\python311\\lib\\site-packages (from sphinx>=5.0.2->pdpbox) (2.12.1)\n",
      "Requirement already satisfied: alabaster<0.8,>=0.7 in c:\\users\\jeffrey ding\\appdata\\local\\programs\\python\\python311\\lib\\site-packages (from sphinx>=5.0.2->pdpbox) (0.7.13)\n",
      "Requirement already satisfied: imagesize>=1.3 in c:\\users\\jeffrey ding\\appdata\\local\\programs\\python\\python311\\lib\\site-packages (from sphinx>=5.0.2->pdpbox) (1.4.1)\n",
      "Requirement already satisfied: requests>=2.25.0 in c:\\users\\jeffrey ding\\appdata\\roaming\\python\\python311\\site-packages (from sphinx>=5.0.2->pdpbox) (2.28.2)\n",
      "Requirement already satisfied: colorama>=0.4.5 in c:\\users\\jeffrey ding\\appdata\\roaming\\python\\python311\\site-packages (from sphinx>=5.0.2->pdpbox) (0.4.6)\n",
      "Requirement already satisfied: sphinxcontrib-jquery<5,>=4 in c:\\users\\jeffrey ding\\appdata\\local\\programs\\python\\python311\\lib\\site-packages (from sphinx-rtd-theme>=1.1.1->pdpbox) (4.1)\n",
      "Requirement already satisfied: iniconfig in c:\\users\\jeffrey ding\\appdata\\local\\programs\\python\\python311\\lib\\site-packages (from pytest->pdpbox) (2.0.0)\n",
      "Requirement already satisfied: pluggy<2.0,>=0.12 in c:\\users\\jeffrey ding\\appdata\\local\\programs\\python\\python311\\lib\\site-packages (from pytest->pdpbox) (1.2.0)\n",
      "Requirement already satisfied: MarkupSafe>=2.0 in c:\\users\\jeffrey ding\\appdata\\local\\programs\\python\\python311\\lib\\site-packages (from Jinja2>=2.10->numpydoc>=1.4.0->pdpbox) (2.1.3)\n",
      "Requirement already satisfied: six>=1.5 in c:\\users\\jeffrey ding\\appdata\\roaming\\python\\python311\\site-packages (from python-dateutil>=2.7->matplotlib>=3.6.2->pdpbox) (1.16.0)\n",
      "Requirement already satisfied: charset-normalizer<4,>=2 in c:\\users\\jeffrey ding\\appdata\\local\\programs\\python\\python311\\lib\\site-packages (from requests>=2.25.0->sphinx>=5.0.2->pdpbox) (2.1.1)\n",
      "Requirement already satisfied: idna<4,>=2.5 in c:\\users\\jeffrey ding\\appdata\\local\\programs\\python\\python311\\lib\\site-packages (from requests>=2.25.0->sphinx>=5.0.2->pdpbox) (3.4)\n",
      "Requirement already satisfied: urllib3<1.27,>=1.21.1 in c:\\users\\jeffrey ding\\appdata\\roaming\\python\\python311\\site-packages (from requests>=2.25.0->sphinx>=5.0.2->pdpbox) (1.26.14)\n",
      "Requirement already satisfied: certifi>=2017.4.17 in c:\\users\\jeffrey ding\\appdata\\roaming\\python\\python311\\site-packages (from requests>=2.25.0->sphinx>=5.0.2->pdpbox) (2022.12.7)\n",
      "Requirement already satisfied: ipykernel in c:\\users\\jeffrey ding\\appdata\\roaming\\python\\python311\\site-packages (6.22.0)\n",
      "Requirement already satisfied: comm>=0.1.1 in c:\\users\\jeffrey ding\\appdata\\roaming\\python\\python311\\site-packages (from ipykernel) (0.1.3)\n",
      "Requirement already satisfied: debugpy>=1.6.5 in c:\\users\\jeffrey ding\\appdata\\roaming\\python\\python311\\site-packages (from ipykernel) (1.6.7)\n",
      "Requirement already satisfied: ipython>=7.23.1 in c:\\users\\jeffrey ding\\appdata\\roaming\\python\\python311\\site-packages (from ipykernel) (8.12.0)\n",
      "Requirement already satisfied: jupyter-client>=6.1.12 in c:\\users\\jeffrey ding\\appdata\\roaming\\python\\python311\\site-packages (from ipykernel) (8.2.0)\n",
      "Requirement already satisfied: jupyter-core!=5.0.*,>=4.12 in c:\\users\\jeffrey ding\\appdata\\roaming\\python\\python311\\site-packages (from ipykernel) (5.3.0)\n",
      "Requirement already satisfied: matplotlib-inline>=0.1 in c:\\users\\jeffrey ding\\appdata\\roaming\\python\\python311\\site-packages (from ipykernel) (0.1.6)\n",
      "Requirement already satisfied: nest-asyncio in c:\\users\\jeffrey ding\\appdata\\roaming\\python\\python311\\site-packages (from ipykernel) (1.5.6)\n",
      "Requirement already satisfied: packaging in c:\\users\\jeffrey ding\\appdata\\roaming\\python\\python311\\site-packages (from ipykernel) (23.1)\n",
      "Requirement already satisfied: psutil in c:\\users\\jeffrey ding\\appdata\\roaming\\python\\python311\\site-packages (from ipykernel) (5.9.5)\n",
      "Requirement already satisfied: pyzmq>=20 in c:\\users\\jeffrey ding\\appdata\\roaming\\python\\python311\\site-packages (from ipykernel) (25.0.2)\n",
      "Requirement already satisfied: tornado>=6.1 in c:\\users\\jeffrey ding\\appdata\\roaming\\python\\python311\\site-packages (from ipykernel) (6.3.1)\n",
      "Requirement already satisfied: traitlets>=5.4.0 in c:\\users\\jeffrey ding\\appdata\\roaming\\python\\python311\\site-packages (from ipykernel) (5.9.0)\n",
      "Requirement already satisfied: backcall in c:\\users\\jeffrey ding\\appdata\\roaming\\python\\python311\\site-packages (from ipython>=7.23.1->ipykernel) (0.2.0)\n",
      "Requirement already satisfied: decorator in c:\\users\\jeffrey ding\\appdata\\roaming\\python\\python311\\site-packages (from ipython>=7.23.1->ipykernel) (5.1.1)\n",
      "Requirement already satisfied: jedi>=0.16 in c:\\users\\jeffrey ding\\appdata\\roaming\\python\\python311\\site-packages (from ipython>=7.23.1->ipykernel) (0.18.2)\n",
      "Requirement already satisfied: pickleshare in c:\\users\\jeffrey ding\\appdata\\roaming\\python\\python311\\site-packages (from ipython>=7.23.1->ipykernel) (0.7.5)\n",
      "Requirement already satisfied: prompt-toolkit!=3.0.37,<3.1.0,>=3.0.30 in c:\\users\\jeffrey ding\\appdata\\roaming\\python\\python311\\site-packages (from ipython>=7.23.1->ipykernel) (3.0.38)\n",
      "Requirement already satisfied: pygments>=2.4.0 in c:\\users\\jeffrey ding\\appdata\\roaming\\python\\python311\\site-packages (from ipython>=7.23.1->ipykernel) (2.15.1)\n",
      "Requirement already satisfied: stack-data in c:\\users\\jeffrey ding\\appdata\\roaming\\python\\python311\\site-packages (from ipython>=7.23.1->ipykernel) (0.6.2)\n",
      "Requirement already satisfied: colorama in c:\\users\\jeffrey ding\\appdata\\roaming\\python\\python311\\site-packages (from ipython>=7.23.1->ipykernel) (0.4.6)\n",
      "Requirement already satisfied: python-dateutil>=2.8.2 in c:\\users\\jeffrey ding\\appdata\\roaming\\python\\python311\\site-packages (from jupyter-client>=6.1.12->ipykernel) (2.8.2)\n",
      "Requirement already satisfied: platformdirs>=2.5 in c:\\users\\jeffrey ding\\appdata\\roaming\\python\\python311\\site-packages (from jupyter-core!=5.0.*,>=4.12->ipykernel) (3.3.0)\n",
      "Requirement already satisfied: pywin32>=300 in c:\\users\\jeffrey ding\\appdata\\roaming\\python\\python311\\site-packages (from jupyter-core!=5.0.*,>=4.12->ipykernel) (306)\n",
      "Requirement already satisfied: parso<0.9.0,>=0.8.0 in c:\\users\\jeffrey ding\\appdata\\roaming\\python\\python311\\site-packages (from jedi>=0.16->ipython>=7.23.1->ipykernel) (0.8.3)\n",
      "Requirement already satisfied: wcwidth in c:\\users\\jeffrey ding\\appdata\\roaming\\python\\python311\\site-packages (from prompt-toolkit!=3.0.37,<3.1.0,>=3.0.30->ipython>=7.23.1->ipykernel) (0.2.6)\n",
      "Requirement already satisfied: six>=1.5 in c:\\users\\jeffrey ding\\appdata\\roaming\\python\\python311\\site-packages (from python-dateutil>=2.8.2->jupyter-client>=6.1.12->ipykernel) (1.16.0)\n",
      "Requirement already satisfied: executing>=1.2.0 in c:\\users\\jeffrey ding\\appdata\\roaming\\python\\python311\\site-packages (from stack-data->ipython>=7.23.1->ipykernel) (1.2.0)\n",
      "Requirement already satisfied: asttokens>=2.1.0 in c:\\users\\jeffrey ding\\appdata\\roaming\\python\\python311\\site-packages (from stack-data->ipython>=7.23.1->ipykernel) (2.2.1)\n",
      "Requirement already satisfied: pure-eval in c:\\users\\jeffrey ding\\appdata\\roaming\\python\\python311\\site-packages (from stack-data->ipython>=7.23.1->ipykernel) (0.2.2)\n",
      "Collecting nbformat\n",
      "  Obtaining dependency information for nbformat from https://files.pythonhosted.org/packages/01/e5/322b31448ba6b0ed6de740306367e85d8da2af0d91e67f7a2860bdf87f72/nbformat-5.9.1-py3-none-any.whl.metadata\n",
      "  Downloading nbformat-5.9.1-py3-none-any.whl.metadata (3.3 kB)\n",
      "Collecting fastjsonschema (from nbformat)\n",
      "  Obtaining dependency information for fastjsonschema from https://files.pythonhosted.org/packages/d4/a1/b3816c7945742ee95e2fb68dd59aaa205c9ce53ffd90704f70c2207a7b4d/fastjsonschema-2.17.1-py3-none-any.whl.metadata\n",
      "  Downloading fastjsonschema-2.17.1-py3-none-any.whl.metadata (2.0 kB)\n",
      "Collecting jsonschema>=2.6 (from nbformat)\n",
      "  Obtaining dependency information for jsonschema>=2.6 from https://files.pythonhosted.org/packages/a1/ba/28ce987450c6afa8336373761193ddaadc1ba2004fbf23a6407db036f558/jsonschema-4.18.4-py3-none-any.whl.metadata\n",
      "  Downloading jsonschema-4.18.4-py3-none-any.whl.metadata (7.8 kB)\n",
      "Requirement already satisfied: jupyter-core in c:\\users\\jeffrey ding\\appdata\\roaming\\python\\python311\\site-packages (from nbformat) (5.3.0)\n",
      "Requirement already satisfied: traitlets>=5.1 in c:\\users\\jeffrey ding\\appdata\\roaming\\python\\python311\\site-packages (from nbformat) (5.9.0)\n",
      "Requirement already satisfied: attrs>=22.2.0 in c:\\users\\jeffrey ding\\appdata\\local\\programs\\python\\python311\\lib\\site-packages (from jsonschema>=2.6->nbformat) (22.2.0)\n",
      "Collecting jsonschema-specifications>=2023.03.6 (from jsonschema>=2.6->nbformat)\n",
      "  Obtaining dependency information for jsonschema-specifications>=2023.03.6 from https://files.pythonhosted.org/packages/1c/24/83349ac2189cc2435e84da3f69ba3c97314d3c0622628e55171c6798ed80/jsonschema_specifications-2023.7.1-py3-none-any.whl.metadata\n",
      "  Downloading jsonschema_specifications-2023.7.1-py3-none-any.whl.metadata (2.8 kB)\n",
      "Collecting referencing>=0.28.4 (from jsonschema>=2.6->nbformat)\n",
      "  Obtaining dependency information for referencing>=0.28.4 from https://files.pythonhosted.org/packages/ea/c3/f75f0ce2cdacca3d68a70b1756635092a1add1002e34afb4895b9fb62598/referencing-0.30.0-py3-none-any.whl.metadata\n",
      "  Downloading referencing-0.30.0-py3-none-any.whl.metadata (2.7 kB)\n",
      "Collecting rpds-py>=0.7.1 (from jsonschema>=2.6->nbformat)\n",
      "  Obtaining dependency information for rpds-py>=0.7.1 from https://files.pythonhosted.org/packages/3d/ba/8639c484271d08f32b9d7044369c1aee26a29e62953be6ca4303210b4957/rpds_py-0.9.2-cp311-none-win_amd64.whl.metadata\n",
      "  Downloading rpds_py-0.9.2-cp311-none-win_amd64.whl.metadata (3.8 kB)\n",
      "Requirement already satisfied: platformdirs>=2.5 in c:\\users\\jeffrey ding\\appdata\\roaming\\python\\python311\\site-packages (from jupyter-core->nbformat) (3.3.0)\n",
      "Requirement already satisfied: pywin32>=300 in c:\\users\\jeffrey ding\\appdata\\roaming\\python\\python311\\site-packages (from jupyter-core->nbformat) (306)\n",
      "Downloading nbformat-5.9.1-py3-none-any.whl (77 kB)\n",
      "   ---------------------------------------- 0.0/77.6 kB ? eta -:--:--\n",
      "   ---------------------------------------- 77.6/77.6 kB 2.2 MB/s eta 0:00:00\n",
      "Downloading jsonschema-4.18.4-py3-none-any.whl (80 kB)\n",
      "   ---------------------------------------- 0.0/81.0 kB ? eta -:--:--\n",
      "   ---------------------------------------- 81.0/81.0 kB 4.4 MB/s eta 0:00:00\n",
      "Downloading fastjsonschema-2.17.1-py3-none-any.whl (23 kB)\n",
      "Downloading jsonschema_specifications-2023.7.1-py3-none-any.whl (17 kB)\n",
      "Downloading referencing-0.30.0-py3-none-any.whl (25 kB)\n",
      "Downloading rpds_py-0.9.2-cp311-none-win_amd64.whl (180 kB)\n",
      "   ---------------------------------------- 0.0/180.7 kB ? eta -:--:--\n",
      "   ---------------------------------------- 180.7/180.7 kB 5.5 MB/s eta 0:00:00\n",
      "Installing collected packages: fastjsonschema, rpds-py, referencing, jsonschema-specifications, jsonschema, nbformat\n",
      "Successfully installed fastjsonschema-2.17.1 jsonschema-4.18.4 jsonschema-specifications-2023.7.1 nbformat-5.9.1 referencing-0.30.0 rpds-py-0.9.2\n"
     ]
    }
   ],
   "source": [
    "! pip install pdpbox\n",
    "! pip install ipykernel\n",
    "! pip install --upgrade nbformat"
   ]
  },
  {
   "attachments": {},
   "cell_type": "markdown",
   "metadata": {},
   "source": [
    "While we encourage you to read the documentation for the package (and reading package documentation in general is a good habit to develop), the authors of the package have also written an excellent blog post on how to use it, showing examples on different algorithms from scikit-learn (the Random Forests example is towards the end of the blog post): https://briangriner.github.io/Partial_Dependence_Plots_presentation-BrianGriner-PrincetonPublicLibrary-4.14.18-updated-4.22.18.html"
   ]
  },
  {
   "attachments": {},
   "cell_type": "markdown",
   "metadata": {},
   "source": [
    "So, armed with this new knowledge, feel free to pick a few features, and make a couple of Partial Dependence Plots of your own!"
   ]
  },
  {
   "cell_type": "code",
   "execution_count": 12,
   "metadata": {},
   "outputs": [
    {
     "data": {
      "text/plain": [
       "Index(['Duration', 'Amount', 'InstallmentRatePercentage', 'ResidenceDuration',\n",
       "       'Age', 'NumberExistingCredits', 'NumberPeopleMaintenance', 'Telephone',\n",
       "       'ForeignWorker', 'CheckingAccountStatus.lt.0',\n",
       "       'CheckingAccountStatus.0.to.200', 'CheckingAccountStatus.gt.200',\n",
       "       'CheckingAccountStatus.none', 'CreditHistory.NoCredit.AllPaid',\n",
       "       'CreditHistory.ThisBank.AllPaid', 'CreditHistory.PaidDuly',\n",
       "       'CreditHistory.Delay', 'CreditHistory.Critical', 'Purpose.NewCar',\n",
       "       'Purpose.UsedCar', 'Purpose.Furniture.Equipment',\n",
       "       'Purpose.Radio.Television', 'Purpose.DomesticAppliance',\n",
       "       'Purpose.Repairs', 'Purpose.Education', 'Purpose.Vacation',\n",
       "       'Purpose.Retraining', 'Purpose.Business', 'Purpose.Other',\n",
       "       'SavingsAccountBonds.lt.100', 'SavingsAccountBonds.100.to.500',\n",
       "       'SavingsAccountBonds.500.to.1000', 'SavingsAccountBonds.gt.1000',\n",
       "       'SavingsAccountBonds.Unknown', 'EmploymentDuration.lt.1',\n",
       "       'EmploymentDuration.1.to.4', 'EmploymentDuration.4.to.7',\n",
       "       'EmploymentDuration.gt.7', 'EmploymentDuration.Unemployed',\n",
       "       'Personal.Male.Divorced.Seperated', 'Personal.Female.NotSingle',\n",
       "       'Personal.Male.Single', 'Personal.Male.Married.Widowed',\n",
       "       'Personal.Female.Single', 'OtherDebtorsGuarantors.None',\n",
       "       'OtherDebtorsGuarantors.CoApplicant',\n",
       "       'OtherDebtorsGuarantors.Guarantor', 'Property.RealEstate',\n",
       "       'Property.Insurance', 'Property.CarOther', 'Property.Unknown',\n",
       "       'OtherInstallmentPlans.Bank', 'OtherInstallmentPlans.Stores',\n",
       "       'OtherInstallmentPlans.None', 'Housing.Rent', 'Housing.Own',\n",
       "       'Housing.ForFree', 'Job.UnemployedUnskilled', 'Job.UnskilledResident',\n",
       "       'Job.SkilledEmployee', 'Job.Management.SelfEmp.HighlyQualified'],\n",
       "      dtype='object')"
      ]
     },
     "execution_count": 12,
     "metadata": {},
     "output_type": "execute_result"
    }
   ],
   "source": [
    "X_train.columns"
   ]
  },
  {
   "cell_type": "code",
   "execution_count": 11,
   "metadata": {},
   "outputs": [
    {
     "name": "stdout",
     "output_type": "stream",
     "text": [
      "obtain pred_func from the provided model.\n"
     ]
    },
    {
     "name": "stderr",
     "output_type": "stream",
     "text": [
      "  0%|          | 0/10 [00:00<?, ?it/s]"
     ]
    },
    {
     "name": "stderr",
     "output_type": "stream",
     "text": [
      "100%|██████████| 10/10 [00:00<00:00, 49.02it/s]\n"
     ]
    },
    {
     "data": {
      "application/vnd.plotly.v1+json": {
       "config": {
        "plotlyServerURL": "https://plot.ly"
       },
       "data": [
        {
         "hoverinfo": "none",
         "line": {
          "color": "rgba(227,238,248,0.8)"
         },
         "mode": "lines",
         "type": "scatter",
         "x": [
          250,
          976,
          1300,
          1554,
          2064,
          2606,
          3367.9999999999986,
          4369.999999999998,
          6842,
          18424
         ],
         "xaxis": "x",
         "y": [
          0.9147417450387425,
          0.9471754620273543,
          0.9583849346201971,
          0.9690412968593614,
          0.9744421760580289,
          0.9738698808889108,
          0.9746338557686587,
          0.9592904737419965,
          0.9413320561005963,
          0.7798795400362437
         ],
         "yaxis": "y"
        },
        {
         "fill": "tonexty",
         "fillcolor": "rgba(227,238,248,0.8)",
         "hoverinfo": "none",
         "line": {
          "color": "rgba(227,238,248,0.8)"
         },
         "mode": "lines",
         "type": "scatter",
         "x": [
          250,
          976,
          1300,
          1554,
          2064,
          2606,
          3367.9999999999986,
          4369.999999999998,
          6842,
          18424
         ],
         "xaxis": "x",
         "y": [
          0.42077825496125754,
          0.41130453797264566,
          0.41507506537980304,
          0.43513870314063846,
          0.44481782394197084,
          0.4520701191110892,
          0.4590461442313411,
          0.4538895262580036,
          0.4429279438994037,
          0.36818045996375615
         ],
         "yaxis": "y"
        },
        {
         "hoverinfo": "none",
         "line": {
          "color": "#E75438",
          "dash": "dash",
          "width": 1.5
         },
         "mode": "lines",
         "type": "scatter",
         "x": [
          250,
          976,
          1300,
          1554,
          2064,
          2606,
          3367.9999999999986,
          4369.999999999998,
          6842,
          18424
         ],
         "xaxis": "x",
         "y": [
          0,
          0,
          0,
          0,
          0,
          0,
          0,
          0,
          0,
          0
         ],
         "yaxis": "y"
        },
        {
         "hovertemplate": "%{y}",
         "line": {
          "color": "rgba(8,48,107,1.0)",
          "width": 1.5
         },
         "marker": {
          "color": "rgba(8,48,107,1.0)",
          "size": 5
         },
         "mode": "lines+markers",
         "name": "pdp",
         "type": "scatter",
         "x": [
          250,
          976,
          1300,
          1554,
          2064,
          2606,
          3367.9999999999986,
          4369.999999999998,
          6842,
          18424
         ],
         "xaxis": "x",
         "y": [
          0.66776,
          0.67924,
          0.6867300000000001,
          0.7020899999999999,
          0.7096299999999999,
          0.71297,
          0.7168399999999999,
          0.70659,
          0.69213,
          0.5740299999999999
         ],
         "yaxis": "y"
        }
       ],
       "layout": {
        "height": 600,
        "showlegend": false,
        "template": {
         "data": {
          "bar": [
           {
            "error_x": {
             "color": "#2a3f5f"
            },
            "error_y": {
             "color": "#2a3f5f"
            },
            "marker": {
             "line": {
              "color": "white",
              "width": 0.5
             },
             "pattern": {
              "fillmode": "overlay",
              "size": 10,
              "solidity": 0.2
             }
            },
            "type": "bar"
           }
          ],
          "barpolar": [
           {
            "marker": {
             "line": {
              "color": "white",
              "width": 0.5
             },
             "pattern": {
              "fillmode": "overlay",
              "size": 10,
              "solidity": 0.2
             }
            },
            "type": "barpolar"
           }
          ],
          "carpet": [
           {
            "aaxis": {
             "endlinecolor": "#2a3f5f",
             "gridcolor": "#C8D4E3",
             "linecolor": "#C8D4E3",
             "minorgridcolor": "#C8D4E3",
             "startlinecolor": "#2a3f5f"
            },
            "baxis": {
             "endlinecolor": "#2a3f5f",
             "gridcolor": "#C8D4E3",
             "linecolor": "#C8D4E3",
             "minorgridcolor": "#C8D4E3",
             "startlinecolor": "#2a3f5f"
            },
            "type": "carpet"
           }
          ],
          "choropleth": [
           {
            "colorbar": {
             "outlinewidth": 0,
             "ticks": ""
            },
            "type": "choropleth"
           }
          ],
          "contour": [
           {
            "colorbar": {
             "outlinewidth": 0,
             "ticks": ""
            },
            "colorscale": [
             [
              0,
              "#0d0887"
             ],
             [
              0.1111111111111111,
              "#46039f"
             ],
             [
              0.2222222222222222,
              "#7201a8"
             ],
             [
              0.3333333333333333,
              "#9c179e"
             ],
             [
              0.4444444444444444,
              "#bd3786"
             ],
             [
              0.5555555555555556,
              "#d8576b"
             ],
             [
              0.6666666666666666,
              "#ed7953"
             ],
             [
              0.7777777777777778,
              "#fb9f3a"
             ],
             [
              0.8888888888888888,
              "#fdca26"
             ],
             [
              1,
              "#f0f921"
             ]
            ],
            "type": "contour"
           }
          ],
          "contourcarpet": [
           {
            "colorbar": {
             "outlinewidth": 0,
             "ticks": ""
            },
            "type": "contourcarpet"
           }
          ],
          "heatmap": [
           {
            "colorbar": {
             "outlinewidth": 0,
             "ticks": ""
            },
            "colorscale": [
             [
              0,
              "#0d0887"
             ],
             [
              0.1111111111111111,
              "#46039f"
             ],
             [
              0.2222222222222222,
              "#7201a8"
             ],
             [
              0.3333333333333333,
              "#9c179e"
             ],
             [
              0.4444444444444444,
              "#bd3786"
             ],
             [
              0.5555555555555556,
              "#d8576b"
             ],
             [
              0.6666666666666666,
              "#ed7953"
             ],
             [
              0.7777777777777778,
              "#fb9f3a"
             ],
             [
              0.8888888888888888,
              "#fdca26"
             ],
             [
              1,
              "#f0f921"
             ]
            ],
            "type": "heatmap"
           }
          ],
          "heatmapgl": [
           {
            "colorbar": {
             "outlinewidth": 0,
             "ticks": ""
            },
            "colorscale": [
             [
              0,
              "#0d0887"
             ],
             [
              0.1111111111111111,
              "#46039f"
             ],
             [
              0.2222222222222222,
              "#7201a8"
             ],
             [
              0.3333333333333333,
              "#9c179e"
             ],
             [
              0.4444444444444444,
              "#bd3786"
             ],
             [
              0.5555555555555556,
              "#d8576b"
             ],
             [
              0.6666666666666666,
              "#ed7953"
             ],
             [
              0.7777777777777778,
              "#fb9f3a"
             ],
             [
              0.8888888888888888,
              "#fdca26"
             ],
             [
              1,
              "#f0f921"
             ]
            ],
            "type": "heatmapgl"
           }
          ],
          "histogram": [
           {
            "marker": {
             "pattern": {
              "fillmode": "overlay",
              "size": 10,
              "solidity": 0.2
             }
            },
            "type": "histogram"
           }
          ],
          "histogram2d": [
           {
            "colorbar": {
             "outlinewidth": 0,
             "ticks": ""
            },
            "colorscale": [
             [
              0,
              "#0d0887"
             ],
             [
              0.1111111111111111,
              "#46039f"
             ],
             [
              0.2222222222222222,
              "#7201a8"
             ],
             [
              0.3333333333333333,
              "#9c179e"
             ],
             [
              0.4444444444444444,
              "#bd3786"
             ],
             [
              0.5555555555555556,
              "#d8576b"
             ],
             [
              0.6666666666666666,
              "#ed7953"
             ],
             [
              0.7777777777777778,
              "#fb9f3a"
             ],
             [
              0.8888888888888888,
              "#fdca26"
             ],
             [
              1,
              "#f0f921"
             ]
            ],
            "type": "histogram2d"
           }
          ],
          "histogram2dcontour": [
           {
            "colorbar": {
             "outlinewidth": 0,
             "ticks": ""
            },
            "colorscale": [
             [
              0,
              "#0d0887"
             ],
             [
              0.1111111111111111,
              "#46039f"
             ],
             [
              0.2222222222222222,
              "#7201a8"
             ],
             [
              0.3333333333333333,
              "#9c179e"
             ],
             [
              0.4444444444444444,
              "#bd3786"
             ],
             [
              0.5555555555555556,
              "#d8576b"
             ],
             [
              0.6666666666666666,
              "#ed7953"
             ],
             [
              0.7777777777777778,
              "#fb9f3a"
             ],
             [
              0.8888888888888888,
              "#fdca26"
             ],
             [
              1,
              "#f0f921"
             ]
            ],
            "type": "histogram2dcontour"
           }
          ],
          "mesh3d": [
           {
            "colorbar": {
             "outlinewidth": 0,
             "ticks": ""
            },
            "type": "mesh3d"
           }
          ],
          "parcoords": [
           {
            "line": {
             "colorbar": {
              "outlinewidth": 0,
              "ticks": ""
             }
            },
            "type": "parcoords"
           }
          ],
          "pie": [
           {
            "automargin": true,
            "type": "pie"
           }
          ],
          "scatter": [
           {
            "fillpattern": {
             "fillmode": "overlay",
             "size": 10,
             "solidity": 0.2
            },
            "type": "scatter"
           }
          ],
          "scatter3d": [
           {
            "line": {
             "colorbar": {
              "outlinewidth": 0,
              "ticks": ""
             }
            },
            "marker": {
             "colorbar": {
              "outlinewidth": 0,
              "ticks": ""
             }
            },
            "type": "scatter3d"
           }
          ],
          "scattercarpet": [
           {
            "marker": {
             "colorbar": {
              "outlinewidth": 0,
              "ticks": ""
             }
            },
            "type": "scattercarpet"
           }
          ],
          "scattergeo": [
           {
            "marker": {
             "colorbar": {
              "outlinewidth": 0,
              "ticks": ""
             }
            },
            "type": "scattergeo"
           }
          ],
          "scattergl": [
           {
            "marker": {
             "colorbar": {
              "outlinewidth": 0,
              "ticks": ""
             }
            },
            "type": "scattergl"
           }
          ],
          "scattermapbox": [
           {
            "marker": {
             "colorbar": {
              "outlinewidth": 0,
              "ticks": ""
             }
            },
            "type": "scattermapbox"
           }
          ],
          "scatterpolar": [
           {
            "marker": {
             "colorbar": {
              "outlinewidth": 0,
              "ticks": ""
             }
            },
            "type": "scatterpolar"
           }
          ],
          "scatterpolargl": [
           {
            "marker": {
             "colorbar": {
              "outlinewidth": 0,
              "ticks": ""
             }
            },
            "type": "scatterpolargl"
           }
          ],
          "scatterternary": [
           {
            "marker": {
             "colorbar": {
              "outlinewidth": 0,
              "ticks": ""
             }
            },
            "type": "scatterternary"
           }
          ],
          "surface": [
           {
            "colorbar": {
             "outlinewidth": 0,
             "ticks": ""
            },
            "colorscale": [
             [
              0,
              "#0d0887"
             ],
             [
              0.1111111111111111,
              "#46039f"
             ],
             [
              0.2222222222222222,
              "#7201a8"
             ],
             [
              0.3333333333333333,
              "#9c179e"
             ],
             [
              0.4444444444444444,
              "#bd3786"
             ],
             [
              0.5555555555555556,
              "#d8576b"
             ],
             [
              0.6666666666666666,
              "#ed7953"
             ],
             [
              0.7777777777777778,
              "#fb9f3a"
             ],
             [
              0.8888888888888888,
              "#fdca26"
             ],
             [
              1,
              "#f0f921"
             ]
            ],
            "type": "surface"
           }
          ],
          "table": [
           {
            "cells": {
             "fill": {
              "color": "#EBF0F8"
             },
             "line": {
              "color": "white"
             }
            },
            "header": {
             "fill": {
              "color": "#C8D4E3"
             },
             "line": {
              "color": "white"
             }
            },
            "type": "table"
           }
          ]
         },
         "layout": {
          "annotationdefaults": {
           "arrowcolor": "#2a3f5f",
           "arrowhead": 0,
           "arrowwidth": 1
          },
          "autotypenumbers": "strict",
          "coloraxis": {
           "colorbar": {
            "outlinewidth": 0,
            "ticks": ""
           }
          },
          "colorscale": {
           "diverging": [
            [
             0,
             "#8e0152"
            ],
            [
             0.1,
             "#c51b7d"
            ],
            [
             0.2,
             "#de77ae"
            ],
            [
             0.3,
             "#f1b6da"
            ],
            [
             0.4,
             "#fde0ef"
            ],
            [
             0.5,
             "#f7f7f7"
            ],
            [
             0.6,
             "#e6f5d0"
            ],
            [
             0.7,
             "#b8e186"
            ],
            [
             0.8,
             "#7fbc41"
            ],
            [
             0.9,
             "#4d9221"
            ],
            [
             1,
             "#276419"
            ]
           ],
           "sequential": [
            [
             0,
             "#0d0887"
            ],
            [
             0.1111111111111111,
             "#46039f"
            ],
            [
             0.2222222222222222,
             "#7201a8"
            ],
            [
             0.3333333333333333,
             "#9c179e"
            ],
            [
             0.4444444444444444,
             "#bd3786"
            ],
            [
             0.5555555555555556,
             "#d8576b"
            ],
            [
             0.6666666666666666,
             "#ed7953"
            ],
            [
             0.7777777777777778,
             "#fb9f3a"
            ],
            [
             0.8888888888888888,
             "#fdca26"
            ],
            [
             1,
             "#f0f921"
            ]
           ],
           "sequentialminus": [
            [
             0,
             "#0d0887"
            ],
            [
             0.1111111111111111,
             "#46039f"
            ],
            [
             0.2222222222222222,
             "#7201a8"
            ],
            [
             0.3333333333333333,
             "#9c179e"
            ],
            [
             0.4444444444444444,
             "#bd3786"
            ],
            [
             0.5555555555555556,
             "#d8576b"
            ],
            [
             0.6666666666666666,
             "#ed7953"
            ],
            [
             0.7777777777777778,
             "#fb9f3a"
            ],
            [
             0.8888888888888888,
             "#fdca26"
            ],
            [
             1,
             "#f0f921"
            ]
           ]
          },
          "colorway": [
           "#636efa",
           "#EF553B",
           "#00cc96",
           "#ab63fa",
           "#FFA15A",
           "#19d3f3",
           "#FF6692",
           "#B6E880",
           "#FF97FF",
           "#FECB52"
          ],
          "font": {
           "color": "#2a3f5f"
          },
          "geo": {
           "bgcolor": "white",
           "lakecolor": "white",
           "landcolor": "white",
           "showlakes": true,
           "showland": true,
           "subunitcolor": "#C8D4E3"
          },
          "hoverlabel": {
           "align": "left"
          },
          "hovermode": "closest",
          "mapbox": {
           "style": "light"
          },
          "paper_bgcolor": "white",
          "plot_bgcolor": "white",
          "polar": {
           "angularaxis": {
            "gridcolor": "#EBF0F8",
            "linecolor": "#EBF0F8",
            "ticks": ""
           },
           "bgcolor": "white",
           "radialaxis": {
            "gridcolor": "#EBF0F8",
            "linecolor": "#EBF0F8",
            "ticks": ""
           }
          },
          "scene": {
           "xaxis": {
            "backgroundcolor": "white",
            "gridcolor": "#DFE8F3",
            "gridwidth": 2,
            "linecolor": "#EBF0F8",
            "showbackground": true,
            "ticks": "",
            "zerolinecolor": "#EBF0F8"
           },
           "yaxis": {
            "backgroundcolor": "white",
            "gridcolor": "#DFE8F3",
            "gridwidth": 2,
            "linecolor": "#EBF0F8",
            "showbackground": true,
            "ticks": "",
            "zerolinecolor": "#EBF0F8"
           },
           "zaxis": {
            "backgroundcolor": "white",
            "gridcolor": "#DFE8F3",
            "gridwidth": 2,
            "linecolor": "#EBF0F8",
            "showbackground": true,
            "ticks": "",
            "zerolinecolor": "#EBF0F8"
           }
          },
          "shapedefaults": {
           "line": {
            "color": "#2a3f5f"
           }
          },
          "ternary": {
           "aaxis": {
            "gridcolor": "#DFE8F3",
            "linecolor": "#A2B1C6",
            "ticks": ""
           },
           "baxis": {
            "gridcolor": "#DFE8F3",
            "linecolor": "#A2B1C6",
            "ticks": ""
           },
           "bgcolor": "white",
           "caxis": {
            "gridcolor": "#DFE8F3",
            "linecolor": "#A2B1C6",
            "ticks": ""
           }
          },
          "title": {
           "x": 0.05
          },
          "xaxis": {
           "automargin": true,
           "gridcolor": "#EBF0F8",
           "linecolor": "#EBF0F8",
           "ticks": "",
           "title": {
            "standoff": 15
           },
           "zerolinecolor": "#EBF0F8",
           "zerolinewidth": 2
          },
          "yaxis": {
           "automargin": true,
           "gridcolor": "#EBF0F8",
           "linecolor": "#EBF0F8",
           "ticks": "",
           "title": {
            "standoff": 15
           },
           "zerolinecolor": "#EBF0F8",
           "zerolinewidth": 2
          }
         }
        },
        "title": {
         "text": "PDP for feature <b>Amount</b> <br><sup>Number of unique grid points: 10</sup>",
         "x": 0,
         "xref": "paper"
        },
        "width": 1200,
        "xaxis": {
         "anchor": "y",
         "domain": [
          0,
          1
         ],
         "title": {
          "text": "<b>Amount</b> (value)"
         }
        },
        "yaxis": {
         "anchor": "x",
         "domain": [
          0,
          0.99
         ],
         "title": {
          "text": "raw"
         }
        }
       }
      }
     },
     "metadata": {},
     "output_type": "display_data"
    }
   ],
   "source": [
    "from pdpbox import pdp\n",
    "# Your code here!\n",
    "\n",
    "import warnings\n",
    "warnings.filterwarnings(\"ignore\")\n",
    "pdp_amount = pdp.PDPIsolate(\n",
    "    model=rfc,\n",
    "    df = df,\n",
    "    model_features=X_train.columns,\n",
    "    feature=\"Amount\",\n",
    "    feature_name=\"Amount\"\n",
    ")\n",
    "\n",
    "fig, axes = pdp_amount.plot(center=False)\n",
    "\n",
    "fig"
   ]
  },
  {
   "cell_type": "code",
   "execution_count": 18,
   "metadata": {},
   "outputs": [
    {
     "name": "stdout",
     "output_type": "stream",
     "text": [
      "obtain pred_func from the provided model.\n"
     ]
    },
    {
     "name": "stderr",
     "output_type": "stream",
     "text": [
      "  0%|          | 0/2 [00:00<?, ?it/s]"
     ]
    },
    {
     "name": "stderr",
     "output_type": "stream",
     "text": [
      "100%|██████████| 2/2 [00:00<00:00, 46.51it/s]\n"
     ]
    },
    {
     "data": {
      "application/vnd.plotly.v1+json": {
       "config": {
        "plotlyServerURL": "https://plot.ly"
       },
       "data": [
        {
         "hoverinfo": "none",
         "line": {
          "color": "rgba(227,238,248,0.8)"
         },
         "mode": "lines",
         "type": "scatter",
         "x": [
          0,
          1
         ],
         "xaxis": "x",
         "y": [
          0.9651984819739277,
          0.9712524119818076
         ],
         "yaxis": "y"
        },
        {
         "fill": "tonexty",
         "fillcolor": "rgba(227,238,248,0.8)",
         "hoverinfo": "none",
         "line": {
          "color": "rgba(227,238,248,0.8)"
         },
         "mode": "lines",
         "type": "scatter",
         "x": [
          0,
          1
         ],
         "xaxis": "x",
         "y": [
          0.3969815180260725,
          0.5039675880181924
         ],
         "yaxis": "y"
        },
        {
         "hoverinfo": "none",
         "line": {
          "color": "#E75438",
          "dash": "dash",
          "width": 1.5
         },
         "mode": "lines",
         "type": "scatter",
         "x": [
          0,
          1
         ],
         "xaxis": "x",
         "y": [
          0,
          0
         ],
         "yaxis": "y"
        },
        {
         "hovertemplate": "%{y}",
         "line": {
          "color": "rgba(8,48,107,1.0)",
          "width": 1.5
         },
         "marker": {
          "color": "rgba(8,48,107,1.0)",
          "size": 5
         },
         "mode": "lines+markers",
         "name": "pdp",
         "type": "scatter",
         "x": [
          0,
          1
         ],
         "xaxis": "x",
         "y": [
          0.6810900000000001,
          0.73761
         ],
         "yaxis": "y"
        }
       ],
       "layout": {
        "height": 600,
        "showlegend": false,
        "template": {
         "data": {
          "bar": [
           {
            "error_x": {
             "color": "#2a3f5f"
            },
            "error_y": {
             "color": "#2a3f5f"
            },
            "marker": {
             "line": {
              "color": "white",
              "width": 0.5
             },
             "pattern": {
              "fillmode": "overlay",
              "size": 10,
              "solidity": 0.2
             }
            },
            "type": "bar"
           }
          ],
          "barpolar": [
           {
            "marker": {
             "line": {
              "color": "white",
              "width": 0.5
             },
             "pattern": {
              "fillmode": "overlay",
              "size": 10,
              "solidity": 0.2
             }
            },
            "type": "barpolar"
           }
          ],
          "carpet": [
           {
            "aaxis": {
             "endlinecolor": "#2a3f5f",
             "gridcolor": "#C8D4E3",
             "linecolor": "#C8D4E3",
             "minorgridcolor": "#C8D4E3",
             "startlinecolor": "#2a3f5f"
            },
            "baxis": {
             "endlinecolor": "#2a3f5f",
             "gridcolor": "#C8D4E3",
             "linecolor": "#C8D4E3",
             "minorgridcolor": "#C8D4E3",
             "startlinecolor": "#2a3f5f"
            },
            "type": "carpet"
           }
          ],
          "choropleth": [
           {
            "colorbar": {
             "outlinewidth": 0,
             "ticks": ""
            },
            "type": "choropleth"
           }
          ],
          "contour": [
           {
            "colorbar": {
             "outlinewidth": 0,
             "ticks": ""
            },
            "colorscale": [
             [
              0,
              "#0d0887"
             ],
             [
              0.1111111111111111,
              "#46039f"
             ],
             [
              0.2222222222222222,
              "#7201a8"
             ],
             [
              0.3333333333333333,
              "#9c179e"
             ],
             [
              0.4444444444444444,
              "#bd3786"
             ],
             [
              0.5555555555555556,
              "#d8576b"
             ],
             [
              0.6666666666666666,
              "#ed7953"
             ],
             [
              0.7777777777777778,
              "#fb9f3a"
             ],
             [
              0.8888888888888888,
              "#fdca26"
             ],
             [
              1,
              "#f0f921"
             ]
            ],
            "type": "contour"
           }
          ],
          "contourcarpet": [
           {
            "colorbar": {
             "outlinewidth": 0,
             "ticks": ""
            },
            "type": "contourcarpet"
           }
          ],
          "heatmap": [
           {
            "colorbar": {
             "outlinewidth": 0,
             "ticks": ""
            },
            "colorscale": [
             [
              0,
              "#0d0887"
             ],
             [
              0.1111111111111111,
              "#46039f"
             ],
             [
              0.2222222222222222,
              "#7201a8"
             ],
             [
              0.3333333333333333,
              "#9c179e"
             ],
             [
              0.4444444444444444,
              "#bd3786"
             ],
             [
              0.5555555555555556,
              "#d8576b"
             ],
             [
              0.6666666666666666,
              "#ed7953"
             ],
             [
              0.7777777777777778,
              "#fb9f3a"
             ],
             [
              0.8888888888888888,
              "#fdca26"
             ],
             [
              1,
              "#f0f921"
             ]
            ],
            "type": "heatmap"
           }
          ],
          "heatmapgl": [
           {
            "colorbar": {
             "outlinewidth": 0,
             "ticks": ""
            },
            "colorscale": [
             [
              0,
              "#0d0887"
             ],
             [
              0.1111111111111111,
              "#46039f"
             ],
             [
              0.2222222222222222,
              "#7201a8"
             ],
             [
              0.3333333333333333,
              "#9c179e"
             ],
             [
              0.4444444444444444,
              "#bd3786"
             ],
             [
              0.5555555555555556,
              "#d8576b"
             ],
             [
              0.6666666666666666,
              "#ed7953"
             ],
             [
              0.7777777777777778,
              "#fb9f3a"
             ],
             [
              0.8888888888888888,
              "#fdca26"
             ],
             [
              1,
              "#f0f921"
             ]
            ],
            "type": "heatmapgl"
           }
          ],
          "histogram": [
           {
            "marker": {
             "pattern": {
              "fillmode": "overlay",
              "size": 10,
              "solidity": 0.2
             }
            },
            "type": "histogram"
           }
          ],
          "histogram2d": [
           {
            "colorbar": {
             "outlinewidth": 0,
             "ticks": ""
            },
            "colorscale": [
             [
              0,
              "#0d0887"
             ],
             [
              0.1111111111111111,
              "#46039f"
             ],
             [
              0.2222222222222222,
              "#7201a8"
             ],
             [
              0.3333333333333333,
              "#9c179e"
             ],
             [
              0.4444444444444444,
              "#bd3786"
             ],
             [
              0.5555555555555556,
              "#d8576b"
             ],
             [
              0.6666666666666666,
              "#ed7953"
             ],
             [
              0.7777777777777778,
              "#fb9f3a"
             ],
             [
              0.8888888888888888,
              "#fdca26"
             ],
             [
              1,
              "#f0f921"
             ]
            ],
            "type": "histogram2d"
           }
          ],
          "histogram2dcontour": [
           {
            "colorbar": {
             "outlinewidth": 0,
             "ticks": ""
            },
            "colorscale": [
             [
              0,
              "#0d0887"
             ],
             [
              0.1111111111111111,
              "#46039f"
             ],
             [
              0.2222222222222222,
              "#7201a8"
             ],
             [
              0.3333333333333333,
              "#9c179e"
             ],
             [
              0.4444444444444444,
              "#bd3786"
             ],
             [
              0.5555555555555556,
              "#d8576b"
             ],
             [
              0.6666666666666666,
              "#ed7953"
             ],
             [
              0.7777777777777778,
              "#fb9f3a"
             ],
             [
              0.8888888888888888,
              "#fdca26"
             ],
             [
              1,
              "#f0f921"
             ]
            ],
            "type": "histogram2dcontour"
           }
          ],
          "mesh3d": [
           {
            "colorbar": {
             "outlinewidth": 0,
             "ticks": ""
            },
            "type": "mesh3d"
           }
          ],
          "parcoords": [
           {
            "line": {
             "colorbar": {
              "outlinewidth": 0,
              "ticks": ""
             }
            },
            "type": "parcoords"
           }
          ],
          "pie": [
           {
            "automargin": true,
            "type": "pie"
           }
          ],
          "scatter": [
           {
            "fillpattern": {
             "fillmode": "overlay",
             "size": 10,
             "solidity": 0.2
            },
            "type": "scatter"
           }
          ],
          "scatter3d": [
           {
            "line": {
             "colorbar": {
              "outlinewidth": 0,
              "ticks": ""
             }
            },
            "marker": {
             "colorbar": {
              "outlinewidth": 0,
              "ticks": ""
             }
            },
            "type": "scatter3d"
           }
          ],
          "scattercarpet": [
           {
            "marker": {
             "colorbar": {
              "outlinewidth": 0,
              "ticks": ""
             }
            },
            "type": "scattercarpet"
           }
          ],
          "scattergeo": [
           {
            "marker": {
             "colorbar": {
              "outlinewidth": 0,
              "ticks": ""
             }
            },
            "type": "scattergeo"
           }
          ],
          "scattergl": [
           {
            "marker": {
             "colorbar": {
              "outlinewidth": 0,
              "ticks": ""
             }
            },
            "type": "scattergl"
           }
          ],
          "scattermapbox": [
           {
            "marker": {
             "colorbar": {
              "outlinewidth": 0,
              "ticks": ""
             }
            },
            "type": "scattermapbox"
           }
          ],
          "scatterpolar": [
           {
            "marker": {
             "colorbar": {
              "outlinewidth": 0,
              "ticks": ""
             }
            },
            "type": "scatterpolar"
           }
          ],
          "scatterpolargl": [
           {
            "marker": {
             "colorbar": {
              "outlinewidth": 0,
              "ticks": ""
             }
            },
            "type": "scatterpolargl"
           }
          ],
          "scatterternary": [
           {
            "marker": {
             "colorbar": {
              "outlinewidth": 0,
              "ticks": ""
             }
            },
            "type": "scatterternary"
           }
          ],
          "surface": [
           {
            "colorbar": {
             "outlinewidth": 0,
             "ticks": ""
            },
            "colorscale": [
             [
              0,
              "#0d0887"
             ],
             [
              0.1111111111111111,
              "#46039f"
             ],
             [
              0.2222222222222222,
              "#7201a8"
             ],
             [
              0.3333333333333333,
              "#9c179e"
             ],
             [
              0.4444444444444444,
              "#bd3786"
             ],
             [
              0.5555555555555556,
              "#d8576b"
             ],
             [
              0.6666666666666666,
              "#ed7953"
             ],
             [
              0.7777777777777778,
              "#fb9f3a"
             ],
             [
              0.8888888888888888,
              "#fdca26"
             ],
             [
              1,
              "#f0f921"
             ]
            ],
            "type": "surface"
           }
          ],
          "table": [
           {
            "cells": {
             "fill": {
              "color": "#EBF0F8"
             },
             "line": {
              "color": "white"
             }
            },
            "header": {
             "fill": {
              "color": "#C8D4E3"
             },
             "line": {
              "color": "white"
             }
            },
            "type": "table"
           }
          ]
         },
         "layout": {
          "annotationdefaults": {
           "arrowcolor": "#2a3f5f",
           "arrowhead": 0,
           "arrowwidth": 1
          },
          "autotypenumbers": "strict",
          "coloraxis": {
           "colorbar": {
            "outlinewidth": 0,
            "ticks": ""
           }
          },
          "colorscale": {
           "diverging": [
            [
             0,
             "#8e0152"
            ],
            [
             0.1,
             "#c51b7d"
            ],
            [
             0.2,
             "#de77ae"
            ],
            [
             0.3,
             "#f1b6da"
            ],
            [
             0.4,
             "#fde0ef"
            ],
            [
             0.5,
             "#f7f7f7"
            ],
            [
             0.6,
             "#e6f5d0"
            ],
            [
             0.7,
             "#b8e186"
            ],
            [
             0.8,
             "#7fbc41"
            ],
            [
             0.9,
             "#4d9221"
            ],
            [
             1,
             "#276419"
            ]
           ],
           "sequential": [
            [
             0,
             "#0d0887"
            ],
            [
             0.1111111111111111,
             "#46039f"
            ],
            [
             0.2222222222222222,
             "#7201a8"
            ],
            [
             0.3333333333333333,
             "#9c179e"
            ],
            [
             0.4444444444444444,
             "#bd3786"
            ],
            [
             0.5555555555555556,
             "#d8576b"
            ],
            [
             0.6666666666666666,
             "#ed7953"
            ],
            [
             0.7777777777777778,
             "#fb9f3a"
            ],
            [
             0.8888888888888888,
             "#fdca26"
            ],
            [
             1,
             "#f0f921"
            ]
           ],
           "sequentialminus": [
            [
             0,
             "#0d0887"
            ],
            [
             0.1111111111111111,
             "#46039f"
            ],
            [
             0.2222222222222222,
             "#7201a8"
            ],
            [
             0.3333333333333333,
             "#9c179e"
            ],
            [
             0.4444444444444444,
             "#bd3786"
            ],
            [
             0.5555555555555556,
             "#d8576b"
            ],
            [
             0.6666666666666666,
             "#ed7953"
            ],
            [
             0.7777777777777778,
             "#fb9f3a"
            ],
            [
             0.8888888888888888,
             "#fdca26"
            ],
            [
             1,
             "#f0f921"
            ]
           ]
          },
          "colorway": [
           "#636efa",
           "#EF553B",
           "#00cc96",
           "#ab63fa",
           "#FFA15A",
           "#19d3f3",
           "#FF6692",
           "#B6E880",
           "#FF97FF",
           "#FECB52"
          ],
          "font": {
           "color": "#2a3f5f"
          },
          "geo": {
           "bgcolor": "white",
           "lakecolor": "white",
           "landcolor": "white",
           "showlakes": true,
           "showland": true,
           "subunitcolor": "#C8D4E3"
          },
          "hoverlabel": {
           "align": "left"
          },
          "hovermode": "closest",
          "mapbox": {
           "style": "light"
          },
          "paper_bgcolor": "white",
          "plot_bgcolor": "white",
          "polar": {
           "angularaxis": {
            "gridcolor": "#EBF0F8",
            "linecolor": "#EBF0F8",
            "ticks": ""
           },
           "bgcolor": "white",
           "radialaxis": {
            "gridcolor": "#EBF0F8",
            "linecolor": "#EBF0F8",
            "ticks": ""
           }
          },
          "scene": {
           "xaxis": {
            "backgroundcolor": "white",
            "gridcolor": "#DFE8F3",
            "gridwidth": 2,
            "linecolor": "#EBF0F8",
            "showbackground": true,
            "ticks": "",
            "zerolinecolor": "#EBF0F8"
           },
           "yaxis": {
            "backgroundcolor": "white",
            "gridcolor": "#DFE8F3",
            "gridwidth": 2,
            "linecolor": "#EBF0F8",
            "showbackground": true,
            "ticks": "",
            "zerolinecolor": "#EBF0F8"
           },
           "zaxis": {
            "backgroundcolor": "white",
            "gridcolor": "#DFE8F3",
            "gridwidth": 2,
            "linecolor": "#EBF0F8",
            "showbackground": true,
            "ticks": "",
            "zerolinecolor": "#EBF0F8"
           }
          },
          "shapedefaults": {
           "line": {
            "color": "#2a3f5f"
           }
          },
          "ternary": {
           "aaxis": {
            "gridcolor": "#DFE8F3",
            "linecolor": "#A2B1C6",
            "ticks": ""
           },
           "baxis": {
            "gridcolor": "#DFE8F3",
            "linecolor": "#A2B1C6",
            "ticks": ""
           },
           "bgcolor": "white",
           "caxis": {
            "gridcolor": "#DFE8F3",
            "linecolor": "#A2B1C6",
            "ticks": ""
           }
          },
          "title": {
           "x": 0.05
          },
          "xaxis": {
           "automargin": true,
           "gridcolor": "#EBF0F8",
           "linecolor": "#EBF0F8",
           "ticks": "",
           "title": {
            "standoff": 15
           },
           "zerolinecolor": "#EBF0F8",
           "zerolinewidth": 2
          },
          "yaxis": {
           "automargin": true,
           "gridcolor": "#EBF0F8",
           "linecolor": "#EBF0F8",
           "ticks": "",
           "title": {
            "standoff": 15
           },
           "zerolinecolor": "#EBF0F8",
           "zerolinewidth": 2
          }
         }
        },
        "title": {
         "text": "PDP for feature <b>CreditHistory.Critical</b> <br><sup>Number of unique grid points: 2</sup>",
         "x": 0,
         "xref": "paper"
        },
        "width": 1200,
        "xaxis": {
         "anchor": "y",
         "domain": [
          0,
          1
         ],
         "range": [
          -0.5,
          1.5
         ],
         "ticktext": [
          "CreditHistory.Critical_0",
          "CreditHistory.Critical_1"
         ],
         "tickvals": [
          0,
          1
         ],
         "title": {
          "text": "<b>CreditHistory.Critical</b>"
         }
        },
        "yaxis": {
         "anchor": "x",
         "domain": [
          0,
          0.99
         ],
         "title": {
          "text": "raw"
         }
        }
       }
      }
     },
     "metadata": {},
     "output_type": "display_data"
    }
   ],
   "source": [
    "pdp_amount = pdp.PDPIsolate(\n",
    "    model=rfc,\n",
    "    df = df,\n",
    "    model_features=X_train.columns,\n",
    "    feature=\"CreditHistory.Critical\",\n",
    "    feature_name=\"CreditHistory.Critical\"\n",
    ")\n",
    "\n",
    "fig, axes = pdp_amount.plot(center=False)\n",
    "\n",
    "fig"
   ]
  },
  {
   "cell_type": "code",
   "execution_count": 14,
   "metadata": {},
   "outputs": [
    {
     "name": "stdout",
     "output_type": "stream",
     "text": [
      "obtain pred_func from the provided model.\n"
     ]
    },
    {
     "name": "stderr",
     "output_type": "stream",
     "text": [
      "100%|██████████| 10/10 [00:00<00:00, 41.66it/s]\n"
     ]
    },
    {
     "data": {
      "application/vnd.plotly.v1+json": {
       "config": {
        "plotlyServerURL": "https://plot.ly"
       },
       "data": [
        {
         "hoverinfo": "none",
         "line": {
          "color": "rgba(227,238,248,0.8)"
         },
         "mode": "lines",
         "type": "scatter",
         "x": [
          19,
          24,
          26,
          28,
          31,
          35,
          38,
          43,
          51,
          75
         ],
         "xaxis": "x",
         "y": [
          0.8712910712517676,
          0.9080258192970274,
          0.9252075617340447,
          0.9396935104830333,
          0.9511205778045457,
          0.9728389572756334,
          0.9761931886793134,
          0.9756264225498428,
          0.970088220748528,
          0.9447932849690852
         ],
         "yaxis": "y"
        },
        {
         "fill": "tonexty",
         "fillcolor": "rgba(227,238,248,0.8)",
         "hoverinfo": "none",
         "line": {
          "color": "rgba(227,238,248,0.8)"
         },
         "mode": "lines",
         "type": "scatter",
         "x": [
          19,
          24,
          26,
          28,
          31,
          35,
          38,
          43,
          51,
          75
         ],
         "xaxis": "x",
         "y": [
          0.40842892874823233,
          0.40821418070297266,
          0.4183324382659553,
          0.42852648951696665,
          0.4348194221954543,
          0.4551410427243666,
          0.46288681132068654,
          0.4666135774501572,
          0.4755717792514722,
          0.47372671503091474
         ],
         "yaxis": "y"
        },
        {
         "hoverinfo": "none",
         "line": {
          "color": "#E75438",
          "dash": "dash",
          "width": 1.5
         },
         "mode": "lines",
         "type": "scatter",
         "x": [
          19,
          24,
          26,
          28,
          31,
          35,
          38,
          43,
          51,
          75
         ],
         "xaxis": "x",
         "y": [
          0,
          0,
          0,
          0,
          0,
          0,
          0,
          0,
          0,
          0
         ],
         "yaxis": "y"
        },
        {
         "hovertemplate": "%{y}",
         "line": {
          "color": "rgba(8,48,107,1.0)",
          "width": 1.5
         },
         "marker": {
          "color": "rgba(8,48,107,1.0)",
          "size": 5
         },
         "mode": "lines+markers",
         "name": "pdp",
         "type": "scatter",
         "x": [
          19,
          24,
          26,
          28,
          31,
          35,
          38,
          43,
          51,
          75
         ],
         "xaxis": "x",
         "y": [
          0.63986,
          0.65812,
          0.67177,
          0.68411,
          0.69297,
          0.71399,
          0.71954,
          0.72112,
          0.7228300000000001,
          0.70926
         ],
         "yaxis": "y"
        }
       ],
       "layout": {
        "height": 600,
        "showlegend": false,
        "template": {
         "data": {
          "bar": [
           {
            "error_x": {
             "color": "#2a3f5f"
            },
            "error_y": {
             "color": "#2a3f5f"
            },
            "marker": {
             "line": {
              "color": "white",
              "width": 0.5
             },
             "pattern": {
              "fillmode": "overlay",
              "size": 10,
              "solidity": 0.2
             }
            },
            "type": "bar"
           }
          ],
          "barpolar": [
           {
            "marker": {
             "line": {
              "color": "white",
              "width": 0.5
             },
             "pattern": {
              "fillmode": "overlay",
              "size": 10,
              "solidity": 0.2
             }
            },
            "type": "barpolar"
           }
          ],
          "carpet": [
           {
            "aaxis": {
             "endlinecolor": "#2a3f5f",
             "gridcolor": "#C8D4E3",
             "linecolor": "#C8D4E3",
             "minorgridcolor": "#C8D4E3",
             "startlinecolor": "#2a3f5f"
            },
            "baxis": {
             "endlinecolor": "#2a3f5f",
             "gridcolor": "#C8D4E3",
             "linecolor": "#C8D4E3",
             "minorgridcolor": "#C8D4E3",
             "startlinecolor": "#2a3f5f"
            },
            "type": "carpet"
           }
          ],
          "choropleth": [
           {
            "colorbar": {
             "outlinewidth": 0,
             "ticks": ""
            },
            "type": "choropleth"
           }
          ],
          "contour": [
           {
            "colorbar": {
             "outlinewidth": 0,
             "ticks": ""
            },
            "colorscale": [
             [
              0,
              "#0d0887"
             ],
             [
              0.1111111111111111,
              "#46039f"
             ],
             [
              0.2222222222222222,
              "#7201a8"
             ],
             [
              0.3333333333333333,
              "#9c179e"
             ],
             [
              0.4444444444444444,
              "#bd3786"
             ],
             [
              0.5555555555555556,
              "#d8576b"
             ],
             [
              0.6666666666666666,
              "#ed7953"
             ],
             [
              0.7777777777777778,
              "#fb9f3a"
             ],
             [
              0.8888888888888888,
              "#fdca26"
             ],
             [
              1,
              "#f0f921"
             ]
            ],
            "type": "contour"
           }
          ],
          "contourcarpet": [
           {
            "colorbar": {
             "outlinewidth": 0,
             "ticks": ""
            },
            "type": "contourcarpet"
           }
          ],
          "heatmap": [
           {
            "colorbar": {
             "outlinewidth": 0,
             "ticks": ""
            },
            "colorscale": [
             [
              0,
              "#0d0887"
             ],
             [
              0.1111111111111111,
              "#46039f"
             ],
             [
              0.2222222222222222,
              "#7201a8"
             ],
             [
              0.3333333333333333,
              "#9c179e"
             ],
             [
              0.4444444444444444,
              "#bd3786"
             ],
             [
              0.5555555555555556,
              "#d8576b"
             ],
             [
              0.6666666666666666,
              "#ed7953"
             ],
             [
              0.7777777777777778,
              "#fb9f3a"
             ],
             [
              0.8888888888888888,
              "#fdca26"
             ],
             [
              1,
              "#f0f921"
             ]
            ],
            "type": "heatmap"
           }
          ],
          "heatmapgl": [
           {
            "colorbar": {
             "outlinewidth": 0,
             "ticks": ""
            },
            "colorscale": [
             [
              0,
              "#0d0887"
             ],
             [
              0.1111111111111111,
              "#46039f"
             ],
             [
              0.2222222222222222,
              "#7201a8"
             ],
             [
              0.3333333333333333,
              "#9c179e"
             ],
             [
              0.4444444444444444,
              "#bd3786"
             ],
             [
              0.5555555555555556,
              "#d8576b"
             ],
             [
              0.6666666666666666,
              "#ed7953"
             ],
             [
              0.7777777777777778,
              "#fb9f3a"
             ],
             [
              0.8888888888888888,
              "#fdca26"
             ],
             [
              1,
              "#f0f921"
             ]
            ],
            "type": "heatmapgl"
           }
          ],
          "histogram": [
           {
            "marker": {
             "pattern": {
              "fillmode": "overlay",
              "size": 10,
              "solidity": 0.2
             }
            },
            "type": "histogram"
           }
          ],
          "histogram2d": [
           {
            "colorbar": {
             "outlinewidth": 0,
             "ticks": ""
            },
            "colorscale": [
             [
              0,
              "#0d0887"
             ],
             [
              0.1111111111111111,
              "#46039f"
             ],
             [
              0.2222222222222222,
              "#7201a8"
             ],
             [
              0.3333333333333333,
              "#9c179e"
             ],
             [
              0.4444444444444444,
              "#bd3786"
             ],
             [
              0.5555555555555556,
              "#d8576b"
             ],
             [
              0.6666666666666666,
              "#ed7953"
             ],
             [
              0.7777777777777778,
              "#fb9f3a"
             ],
             [
              0.8888888888888888,
              "#fdca26"
             ],
             [
              1,
              "#f0f921"
             ]
            ],
            "type": "histogram2d"
           }
          ],
          "histogram2dcontour": [
           {
            "colorbar": {
             "outlinewidth": 0,
             "ticks": ""
            },
            "colorscale": [
             [
              0,
              "#0d0887"
             ],
             [
              0.1111111111111111,
              "#46039f"
             ],
             [
              0.2222222222222222,
              "#7201a8"
             ],
             [
              0.3333333333333333,
              "#9c179e"
             ],
             [
              0.4444444444444444,
              "#bd3786"
             ],
             [
              0.5555555555555556,
              "#d8576b"
             ],
             [
              0.6666666666666666,
              "#ed7953"
             ],
             [
              0.7777777777777778,
              "#fb9f3a"
             ],
             [
              0.8888888888888888,
              "#fdca26"
             ],
             [
              1,
              "#f0f921"
             ]
            ],
            "type": "histogram2dcontour"
           }
          ],
          "mesh3d": [
           {
            "colorbar": {
             "outlinewidth": 0,
             "ticks": ""
            },
            "type": "mesh3d"
           }
          ],
          "parcoords": [
           {
            "line": {
             "colorbar": {
              "outlinewidth": 0,
              "ticks": ""
             }
            },
            "type": "parcoords"
           }
          ],
          "pie": [
           {
            "automargin": true,
            "type": "pie"
           }
          ],
          "scatter": [
           {
            "fillpattern": {
             "fillmode": "overlay",
             "size": 10,
             "solidity": 0.2
            },
            "type": "scatter"
           }
          ],
          "scatter3d": [
           {
            "line": {
             "colorbar": {
              "outlinewidth": 0,
              "ticks": ""
             }
            },
            "marker": {
             "colorbar": {
              "outlinewidth": 0,
              "ticks": ""
             }
            },
            "type": "scatter3d"
           }
          ],
          "scattercarpet": [
           {
            "marker": {
             "colorbar": {
              "outlinewidth": 0,
              "ticks": ""
             }
            },
            "type": "scattercarpet"
           }
          ],
          "scattergeo": [
           {
            "marker": {
             "colorbar": {
              "outlinewidth": 0,
              "ticks": ""
             }
            },
            "type": "scattergeo"
           }
          ],
          "scattergl": [
           {
            "marker": {
             "colorbar": {
              "outlinewidth": 0,
              "ticks": ""
             }
            },
            "type": "scattergl"
           }
          ],
          "scattermapbox": [
           {
            "marker": {
             "colorbar": {
              "outlinewidth": 0,
              "ticks": ""
             }
            },
            "type": "scattermapbox"
           }
          ],
          "scatterpolar": [
           {
            "marker": {
             "colorbar": {
              "outlinewidth": 0,
              "ticks": ""
             }
            },
            "type": "scatterpolar"
           }
          ],
          "scatterpolargl": [
           {
            "marker": {
             "colorbar": {
              "outlinewidth": 0,
              "ticks": ""
             }
            },
            "type": "scatterpolargl"
           }
          ],
          "scatterternary": [
           {
            "marker": {
             "colorbar": {
              "outlinewidth": 0,
              "ticks": ""
             }
            },
            "type": "scatterternary"
           }
          ],
          "surface": [
           {
            "colorbar": {
             "outlinewidth": 0,
             "ticks": ""
            },
            "colorscale": [
             [
              0,
              "#0d0887"
             ],
             [
              0.1111111111111111,
              "#46039f"
             ],
             [
              0.2222222222222222,
              "#7201a8"
             ],
             [
              0.3333333333333333,
              "#9c179e"
             ],
             [
              0.4444444444444444,
              "#bd3786"
             ],
             [
              0.5555555555555556,
              "#d8576b"
             ],
             [
              0.6666666666666666,
              "#ed7953"
             ],
             [
              0.7777777777777778,
              "#fb9f3a"
             ],
             [
              0.8888888888888888,
              "#fdca26"
             ],
             [
              1,
              "#f0f921"
             ]
            ],
            "type": "surface"
           }
          ],
          "table": [
           {
            "cells": {
             "fill": {
              "color": "#EBF0F8"
             },
             "line": {
              "color": "white"
             }
            },
            "header": {
             "fill": {
              "color": "#C8D4E3"
             },
             "line": {
              "color": "white"
             }
            },
            "type": "table"
           }
          ]
         },
         "layout": {
          "annotationdefaults": {
           "arrowcolor": "#2a3f5f",
           "arrowhead": 0,
           "arrowwidth": 1
          },
          "autotypenumbers": "strict",
          "coloraxis": {
           "colorbar": {
            "outlinewidth": 0,
            "ticks": ""
           }
          },
          "colorscale": {
           "diverging": [
            [
             0,
             "#8e0152"
            ],
            [
             0.1,
             "#c51b7d"
            ],
            [
             0.2,
             "#de77ae"
            ],
            [
             0.3,
             "#f1b6da"
            ],
            [
             0.4,
             "#fde0ef"
            ],
            [
             0.5,
             "#f7f7f7"
            ],
            [
             0.6,
             "#e6f5d0"
            ],
            [
             0.7,
             "#b8e186"
            ],
            [
             0.8,
             "#7fbc41"
            ],
            [
             0.9,
             "#4d9221"
            ],
            [
             1,
             "#276419"
            ]
           ],
           "sequential": [
            [
             0,
             "#0d0887"
            ],
            [
             0.1111111111111111,
             "#46039f"
            ],
            [
             0.2222222222222222,
             "#7201a8"
            ],
            [
             0.3333333333333333,
             "#9c179e"
            ],
            [
             0.4444444444444444,
             "#bd3786"
            ],
            [
             0.5555555555555556,
             "#d8576b"
            ],
            [
             0.6666666666666666,
             "#ed7953"
            ],
            [
             0.7777777777777778,
             "#fb9f3a"
            ],
            [
             0.8888888888888888,
             "#fdca26"
            ],
            [
             1,
             "#f0f921"
            ]
           ],
           "sequentialminus": [
            [
             0,
             "#0d0887"
            ],
            [
             0.1111111111111111,
             "#46039f"
            ],
            [
             0.2222222222222222,
             "#7201a8"
            ],
            [
             0.3333333333333333,
             "#9c179e"
            ],
            [
             0.4444444444444444,
             "#bd3786"
            ],
            [
             0.5555555555555556,
             "#d8576b"
            ],
            [
             0.6666666666666666,
             "#ed7953"
            ],
            [
             0.7777777777777778,
             "#fb9f3a"
            ],
            [
             0.8888888888888888,
             "#fdca26"
            ],
            [
             1,
             "#f0f921"
            ]
           ]
          },
          "colorway": [
           "#636efa",
           "#EF553B",
           "#00cc96",
           "#ab63fa",
           "#FFA15A",
           "#19d3f3",
           "#FF6692",
           "#B6E880",
           "#FF97FF",
           "#FECB52"
          ],
          "font": {
           "color": "#2a3f5f"
          },
          "geo": {
           "bgcolor": "white",
           "lakecolor": "white",
           "landcolor": "white",
           "showlakes": true,
           "showland": true,
           "subunitcolor": "#C8D4E3"
          },
          "hoverlabel": {
           "align": "left"
          },
          "hovermode": "closest",
          "mapbox": {
           "style": "light"
          },
          "paper_bgcolor": "white",
          "plot_bgcolor": "white",
          "polar": {
           "angularaxis": {
            "gridcolor": "#EBF0F8",
            "linecolor": "#EBF0F8",
            "ticks": ""
           },
           "bgcolor": "white",
           "radialaxis": {
            "gridcolor": "#EBF0F8",
            "linecolor": "#EBF0F8",
            "ticks": ""
           }
          },
          "scene": {
           "xaxis": {
            "backgroundcolor": "white",
            "gridcolor": "#DFE8F3",
            "gridwidth": 2,
            "linecolor": "#EBF0F8",
            "showbackground": true,
            "ticks": "",
            "zerolinecolor": "#EBF0F8"
           },
           "yaxis": {
            "backgroundcolor": "white",
            "gridcolor": "#DFE8F3",
            "gridwidth": 2,
            "linecolor": "#EBF0F8",
            "showbackground": true,
            "ticks": "",
            "zerolinecolor": "#EBF0F8"
           },
           "zaxis": {
            "backgroundcolor": "white",
            "gridcolor": "#DFE8F3",
            "gridwidth": 2,
            "linecolor": "#EBF0F8",
            "showbackground": true,
            "ticks": "",
            "zerolinecolor": "#EBF0F8"
           }
          },
          "shapedefaults": {
           "line": {
            "color": "#2a3f5f"
           }
          },
          "ternary": {
           "aaxis": {
            "gridcolor": "#DFE8F3",
            "linecolor": "#A2B1C6",
            "ticks": ""
           },
           "baxis": {
            "gridcolor": "#DFE8F3",
            "linecolor": "#A2B1C6",
            "ticks": ""
           },
           "bgcolor": "white",
           "caxis": {
            "gridcolor": "#DFE8F3",
            "linecolor": "#A2B1C6",
            "ticks": ""
           }
          },
          "title": {
           "x": 0.05
          },
          "xaxis": {
           "automargin": true,
           "gridcolor": "#EBF0F8",
           "linecolor": "#EBF0F8",
           "ticks": "",
           "title": {
            "standoff": 15
           },
           "zerolinecolor": "#EBF0F8",
           "zerolinewidth": 2
          },
          "yaxis": {
           "automargin": true,
           "gridcolor": "#EBF0F8",
           "linecolor": "#EBF0F8",
           "ticks": "",
           "title": {
            "standoff": 15
           },
           "zerolinecolor": "#EBF0F8",
           "zerolinewidth": 2
          }
         }
        },
        "title": {
         "text": "PDP for feature <b>Age</b> <br><sup>Number of unique grid points: 10</sup>",
         "x": 0,
         "xref": "paper"
        },
        "width": 1200,
        "xaxis": {
         "anchor": "y",
         "domain": [
          0,
          1
         ],
         "title": {
          "text": "<b>Age</b> (value)"
         }
        },
        "yaxis": {
         "anchor": "x",
         "domain": [
          0,
          0.99
         ],
         "title": {
          "text": "raw"
         }
        }
       }
      }
     },
     "metadata": {},
     "output_type": "display_data"
    }
   ],
   "source": [
    "pdp_amount = pdp.PDPIsolate(\n",
    "    model=rfc,\n",
    "    df = df,\n",
    "    model_features=X_train.columns,\n",
    "    feature=\"Age\",\n",
    "    feature_name=\"Age\"\n",
    ")\n",
    "\n",
    "fig, axes = pdp_amount.plot(center=False)\n",
    "\n",
    "fig"
   ]
  },
  {
   "attachments": {},
   "cell_type": "markdown",
   "metadata": {},
   "source": [
    "## (Optional) Advanced Boosting-Based Algorithms"
   ]
  },
  {
   "attachments": {},
   "cell_type": "markdown",
   "metadata": {},
   "source": [
    "As explained in the video lectures, the next generation of algorithms after Random Forests (that use Bagging, a.k.a. Bootstrap Aggregation) were developed using Boosting, and the first one of these were Gradient Boosted Machines, which are implemented in scikit-learn (http://scikit-learn.org/stable/modules/ensemble.html#gradient-tree-boosting)."
   ]
  },
  {
   "attachments": {},
   "cell_type": "markdown",
   "metadata": {},
   "source": [
    "Still, in recent years, a number of variations on GBMs have been developed by different research amd industry groups, all of them bringing improvements, both in speed, accuracy and functionality to the original Gradient Boosting algorithms.\n",
    "\n",
    "In no order of preference, these are:\n",
    "1. **XGBoost**: https://xgboost.readthedocs.io/en/latest/\n",
    "2. **CatBoost**: https://tech.yandex.com/catboost/\n",
    "3. **LightGBM**: https://lightgbm.readthedocs.io/en/latest/"
   ]
  },
  {
   "attachments": {},
   "cell_type": "markdown",
   "metadata": {},
   "source": [
    "If you're using the Anaconda distribution, these are all very easy to install:"
   ]
  },
  {
   "cell_type": "code",
   "execution_count": null,
   "metadata": {},
   "outputs": [],
   "source": [
    "! conda install -c anaconda py-xgboost"
   ]
  },
  {
   "cell_type": "code",
   "execution_count": null,
   "metadata": {},
   "outputs": [],
   "source": [
    "! conda install -c conda-forge catboost"
   ]
  },
  {
   "cell_type": "code",
   "execution_count": null,
   "metadata": {},
   "outputs": [],
   "source": [
    "! conda install -c conda-forge lightgbm"
   ]
  },
  {
   "attachments": {},
   "cell_type": "markdown",
   "metadata": {},
   "source": [
    "Your task in this optional section of the mini project is to read the documentation of these three libraries, and apply all of them to the \"German Credit\" dataset, just like you did in the case of Decision Trees and Random Forests."
   ]
  },
  {
   "attachments": {},
   "cell_type": "markdown",
   "metadata": {},
   "source": [
    "The final deliverable of this section should be a table (can be a pandas DataFrame) which shows the accuracy of all the five algorthms taught in this mini project in one place."
   ]
  },
  {
   "attachments": {},
   "cell_type": "markdown",
   "metadata": {},
   "source": [
    "Happy modeling! :)"
   ]
  },
  {
   "cell_type": "code",
   "execution_count": null,
   "metadata": {},
   "outputs": [],
   "source": []
  }
 ],
 "metadata": {
  "kernelspec": {
   "display_name": "Python 3",
   "language": "python",
   "name": "python3"
  },
  "language_info": {
   "codemirror_mode": {
    "name": "ipython",
    "version": 3
   },
   "file_extension": ".py",
   "mimetype": "text/x-python",
   "name": "python",
   "nbconvert_exporter": "python",
   "pygments_lexer": "ipython3",
   "version": "3.11.1"
  }
 },
 "nbformat": 4,
 "nbformat_minor": 2
}
